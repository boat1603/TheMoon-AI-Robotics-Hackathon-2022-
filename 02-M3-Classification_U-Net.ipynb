{
  "nbformat": 4,
  "nbformat_minor": 0,
  "metadata": {
    "colab": {
      "name": "unet classification.ipynb",
      "provenance": []
    },
    "kernelspec": {
      "name": "python3",
      "display_name": "Python 3"
    },
    "language_info": {
      "name": "python"
    },
    "accelerator": "GPU",
    "gpuClass": "standard"
  },
  "cells": [
    {
      "cell_type": "code",
      "execution_count": 1,
      "metadata": {
        "id": "IoCm9EQ8f85F"
      },
      "outputs": [],
      "source": [
        "import tensorflow as tf\n",
        "import numpy as np\n",
        "from sklearn.model_selection import train_test_split\n",
        "#import cv2\n",
        "import matplotlib.pyplot as plt\n",
        "import datetime\n",
        "from tensorflow import Tensor"
      ]
    },
    {
      "cell_type": "code",
      "source": [
        "from google.colab import drive\n",
        "drive.mount('/content/drive')"
      ],
      "metadata": {
        "colab": {
          "base_uri": "https://localhost:8080/"
        },
        "id": "UVVeSKEmYVoK",
        "outputId": "20a091b2-98ee-471c-a532-9f6630ff239d"
      },
      "execution_count": 2,
      "outputs": [
        {
          "output_type": "stream",
          "name": "stdout",
          "text": [
            "Drive already mounted at /content/drive; to attempt to forcibly remount, call drive.mount(\"/content/drive\", force_remount=True).\n"
          ]
        }
      ]
    },
    {
      "cell_type": "markdown",
      "source": [
        "# Load data from GGDrive"
      ],
      "metadata": {
        "id": "GvJtOIX5dDLv"
      }
    },
    {
      "cell_type": "code",
      "source": [
        "npzfile = np.load('/content/drive/MyDrive/Colab Notebooks/Hackathon/my_data_4stride_2.npz')\n",
        "print(npzfile.files)\n",
        "img_sample = npzfile['img_sample']\n",
        "img_label = npzfile['img_label']"
      ],
      "metadata": {
        "id": "TUeyzj4kYTZq",
        "colab": {
          "base_uri": "https://localhost:8080/"
        },
        "outputId": "a972ac8f-fa58-4767-9960-31e11aa2c164"
      },
      "execution_count": 3,
      "outputs": [
        {
          "output_type": "stream",
          "name": "stdout",
          "text": [
            "['img_sample', 'img_label']\n"
          ]
        }
      ]
    },
    {
      "cell_type": "markdown",
      "source": [
        "# Define model architecture"
      ],
      "metadata": {
        "id": "-rQTHaXLdIEr"
      }
    },
    {
      "cell_type": "code",
      "source": [
        "from tensorflow import keras\n",
        "from tensorflow.keras.applications import VGG16,ResNet50,EfficientNetB2,InceptionV3,EfficientNetB0\n",
        "from tensorflow.keras.models import Sequential\n",
        "from tensorflow.keras import layers\n",
        "from tensorflow.keras.layers import Conv2D, MaxPooling2D, Concatenate, Activation, Dropout, Flatten, Dense, Conv2DTranspose, concatenate, UpSampling2D"
      ],
      "metadata": {
        "id": "lAIxSbO3f_ss"
      },
      "execution_count": 4,
      "outputs": []
    },
    {
      "cell_type": "code",
      "source": [
        "# KERAS UNET \n",
        "start_neurons = 64\n",
        "input_layer = keras.Input(shape=(40,40,12),dtype='float32')\n",
        "# scaled = layers.experimental.preprocessing.Rescaling(1./255)(input_layer)\n",
        "aug = layers.experimental.preprocessing.RandomFlip(\"horizontal_and_vertical\")(input_layer)\n",
        "aug = layers.experimental.preprocessing.RandomRotation(0.2,fill_mode='constant')(aug)\n",
        "# aug = layers.experimental.preprocessing.RandomContrast(0.5)(aug)\n",
        "\n",
        "conv1 = Conv2D(start_neurons * 1, (3, 3), activation=\"relu\", padding=\"same\")(aug)\n",
        "conv1 = Conv2D(start_neurons * 1, (3, 3), activation=\"relu\", padding=\"same\")(conv1)\n",
        "pool1 = MaxPooling2D((2, 2))(conv1)\n",
        "pool1 = Dropout(0.25)(pool1)\n",
        "\n",
        "conv2 = Conv2D(start_neurons * 2, (3, 3), activation=\"relu\", padding=\"same\")(pool1)\n",
        "conv2 = Conv2D(start_neurons * 2, (3, 3), activation=\"relu\", padding=\"same\")(conv2)\n",
        "pool2 = MaxPooling2D((2, 2))(conv2)\n",
        "pool2 = Dropout(0.25)(pool2)\n",
        "\n",
        "conv3 = Conv2D(start_neurons * 4, (3, 3), activation=\"relu\", padding=\"same\")(pool2)\n",
        "conv3 = Conv2D(start_neurons * 4, (3, 3), activation=\"relu\", padding=\"same\")(conv3)\n",
        "pool3 = MaxPooling2D((2, 2))(conv3)\n",
        "pool3 = Dropout(0.25)(pool3)\n",
        "\n",
        "# Middle\n",
        "convm = Conv2D(start_neurons * 8, (3, 3), activation=\"relu\", padding=\"same\")(pool3)\n",
        "convm = Conv2D(start_neurons * 8, (3, 3), activation=\"relu\", padding=\"same\")(convm)\n",
        "\n",
        "deconv3 = UpSampling2D(size=(2, 2))(convm)\n",
        "uconv3 = concatenate([deconv3, conv3])\n",
        "uconv3 = Dropout(0.25)(uconv3)\n",
        "uconv3 = Conv2D(start_neurons * 4, (3, 3), activation=\"relu\", padding=\"same\")(uconv3)\n",
        "uconv3 = Conv2D(start_neurons * 4, (3, 3), activation=\"relu\", padding=\"same\")(uconv3)\n",
        "\n",
        "deconv2 = UpSampling2D(size=(2, 2))(uconv3)\n",
        "uconv2 = concatenate([deconv2, conv2])\n",
        "uconv2 = Dropout(0.25)(uconv2)\n",
        "uconv2 = Conv2D(start_neurons * 2, (3, 3), activation=\"relu\", padding=\"same\")(uconv2)\n",
        "uconv2 = Conv2D(start_neurons * 2, (3, 3), activation=\"relu\", padding=\"same\")(uconv2)\n",
        "\n",
        "deconv1 = UpSampling2D(size=(2, 2))(uconv2)\n",
        "uconv1 = concatenate([deconv1, conv1])\n",
        "uconv1 = Dropout(0.25)(uconv1)\n",
        "uconv1 = Conv2D(start_neurons * 1, (3, 3), activation=\"relu\", padding=\"same\")(uconv1)\n",
        "output_layer = Conv2D(start_neurons * 1, (3, 3), activation=\"relu\", padding=\"same\")(uconv1)\n",
        "\n",
        "#output_layer = Conv2D(1, (1,1), padding=\"same\", activation=\"sigmoid\")(uconv1)\n",
        "\n",
        "gap_out = keras.layers.GlobalAveragePooling2D()(output_layer)\n",
        "# --- Dense Layer ---\n",
        "output = Dense(4, activation='softmax')(gap_out)\n",
        "#-----------------------------------------------------------------\n",
        "model = keras.Model(inputs=input_layer, outputs=output)\n",
        "model.summary()"
      ],
      "metadata": {
        "id": "EsO7M5hzgAkr",
        "colab": {
          "base_uri": "https://localhost:8080/"
        },
        "outputId": "15ec1c0b-f450-4c33-ed70-d10d09f73ac7"
      },
      "execution_count": 5,
      "outputs": [
        {
          "output_type": "stream",
          "name": "stdout",
          "text": [
            "Model: \"model\"\n",
            "__________________________________________________________________________________________________\n",
            " Layer (type)                   Output Shape         Param #     Connected to                     \n",
            "==================================================================================================\n",
            " input_1 (InputLayer)           [(None, 40, 40, 12)  0           []                               \n",
            "                                ]                                                                 \n",
            "                                                                                                  \n",
            " random_flip (RandomFlip)       (None, 40, 40, 12)   0           ['input_1[0][0]']                \n",
            "                                                                                                  \n",
            " random_rotation (RandomRotatio  (None, 40, 40, 12)  0           ['random_flip[0][0]']            \n",
            " n)                                                                                               \n",
            "                                                                                                  \n",
            " conv2d (Conv2D)                (None, 40, 40, 64)   6976        ['random_rotation[0][0]']        \n",
            "                                                                                                  \n",
            " conv2d_1 (Conv2D)              (None, 40, 40, 64)   36928       ['conv2d[0][0]']                 \n",
            "                                                                                                  \n",
            " max_pooling2d (MaxPooling2D)   (None, 20, 20, 64)   0           ['conv2d_1[0][0]']               \n",
            "                                                                                                  \n",
            " dropout (Dropout)              (None, 20, 20, 64)   0           ['max_pooling2d[0][0]']          \n",
            "                                                                                                  \n",
            " conv2d_2 (Conv2D)              (None, 20, 20, 128)  73856       ['dropout[0][0]']                \n",
            "                                                                                                  \n",
            " conv2d_3 (Conv2D)              (None, 20, 20, 128)  147584      ['conv2d_2[0][0]']               \n",
            "                                                                                                  \n",
            " max_pooling2d_1 (MaxPooling2D)  (None, 10, 10, 128)  0          ['conv2d_3[0][0]']               \n",
            "                                                                                                  \n",
            " dropout_1 (Dropout)            (None, 10, 10, 128)  0           ['max_pooling2d_1[0][0]']        \n",
            "                                                                                                  \n",
            " conv2d_4 (Conv2D)              (None, 10, 10, 256)  295168      ['dropout_1[0][0]']              \n",
            "                                                                                                  \n",
            " conv2d_5 (Conv2D)              (None, 10, 10, 256)  590080      ['conv2d_4[0][0]']               \n",
            "                                                                                                  \n",
            " max_pooling2d_2 (MaxPooling2D)  (None, 5, 5, 256)   0           ['conv2d_5[0][0]']               \n",
            "                                                                                                  \n",
            " dropout_2 (Dropout)            (None, 5, 5, 256)    0           ['max_pooling2d_2[0][0]']        \n",
            "                                                                                                  \n",
            " conv2d_6 (Conv2D)              (None, 5, 5, 256)    590080      ['dropout_2[0][0]']              \n",
            "                                                                                                  \n",
            " conv2d_7 (Conv2D)              (None, 5, 5, 256)    590080      ['conv2d_6[0][0]']               \n",
            "                                                                                                  \n",
            " up_sampling2d (UpSampling2D)   (None, 10, 10, 256)  0           ['conv2d_7[0][0]']               \n",
            "                                                                                                  \n",
            " concatenate (Concatenate)      (None, 10, 10, 512)  0           ['up_sampling2d[0][0]',          \n",
            "                                                                  'conv2d_5[0][0]']               \n",
            "                                                                                                  \n",
            " dropout_3 (Dropout)            (None, 10, 10, 512)  0           ['concatenate[0][0]']            \n",
            "                                                                                                  \n",
            " conv2d_8 (Conv2D)              (None, 10, 10, 256)  1179904     ['dropout_3[0][0]']              \n",
            "                                                                                                  \n",
            " conv2d_9 (Conv2D)              (None, 10, 10, 256)  590080      ['conv2d_8[0][0]']               \n",
            "                                                                                                  \n",
            " up_sampling2d_1 (UpSampling2D)  (None, 20, 20, 256)  0          ['conv2d_9[0][0]']               \n",
            "                                                                                                  \n",
            " concatenate_1 (Concatenate)    (None, 20, 20, 384)  0           ['up_sampling2d_1[0][0]',        \n",
            "                                                                  'conv2d_3[0][0]']               \n",
            "                                                                                                  \n",
            " dropout_4 (Dropout)            (None, 20, 20, 384)  0           ['concatenate_1[0][0]']          \n",
            "                                                                                                  \n",
            " conv2d_10 (Conv2D)             (None, 20, 20, 128)  442496      ['dropout_4[0][0]']              \n",
            "                                                                                                  \n",
            " conv2d_11 (Conv2D)             (None, 20, 20, 128)  147584      ['conv2d_10[0][0]']              \n",
            "                                                                                                  \n",
            " up_sampling2d_2 (UpSampling2D)  (None, 40, 40, 128)  0          ['conv2d_11[0][0]']              \n",
            "                                                                                                  \n",
            " concatenate_2 (Concatenate)    (None, 40, 40, 192)  0           ['up_sampling2d_2[0][0]',        \n",
            "                                                                  'conv2d_1[0][0]']               \n",
            "                                                                                                  \n",
            " dropout_5 (Dropout)            (None, 40, 40, 192)  0           ['concatenate_2[0][0]']          \n",
            "                                                                                                  \n",
            " conv2d_12 (Conv2D)             (None, 40, 40, 64)   110656      ['dropout_5[0][0]']              \n",
            "                                                                                                  \n",
            " conv2d_13 (Conv2D)             (None, 40, 40, 64)   36928       ['conv2d_12[0][0]']              \n",
            "                                                                                                  \n",
            " global_average_pooling2d (Glob  (None, 64)          0           ['conv2d_13[0][0]']              \n",
            " alAveragePooling2D)                                                                              \n",
            "                                                                                                  \n",
            " dense (Dense)                  (None, 4)            260         ['global_average_pooling2d[0][0]'\n",
            "                                                                 ]                                \n",
            "                                                                                                  \n",
            "==================================================================================================\n",
            "Total params: 4,838,660\n",
            "Trainable params: 4,838,660\n",
            "Non-trainable params: 0\n",
            "__________________________________________________________________________________________________\n"
          ]
        }
      ]
    },
    {
      "cell_type": "code",
      "source": [
        "keras.utils.plot_model(model, show_shapes=True)"
      ],
      "metadata": {
        "id": "rzSX0QcRgCgV"
      },
      "execution_count": 6,
      "outputs": []
    },
    {
      "cell_type": "markdown",
      "source": [
        "# Train-Test split"
      ],
      "metadata": {
        "id": "0lK3ucc1dbjw"
      }
    },
    {
      "cell_type": "code",
      "source": [
        "from sklearn.model_selection import train_test_split\n",
        "img_label_onehot = tf.keras.utils.to_categorical(img_label-1)\n",
        "train_sample, test_sample, train_label, test_label = train_test_split(img_sample, img_label_onehot, test_size=0.25, random_state=2374)"
      ],
      "metadata": {
        "id": "PgxgGocxZWIv"
      },
      "execution_count": 9,
      "outputs": []
    },
    {
      "cell_type": "markdown",
      "source": [
        "# Model compile"
      ],
      "metadata": {
        "id": "xqfOFnEcdfUP"
      }
    },
    {
      "cell_type": "code",
      "source": [
        "initial_learning_rate = 1e-4\n",
        "lr_schedule = tf.keras.optimizers.schedules.ExponentialDecay(\n",
        "    initial_learning_rate,\n",
        "    decay_steps=10000,\n",
        "    decay_rate=0.95,\n",
        "    staircase=False)\n",
        "model.compile(loss=keras.losses.categorical_crossentropy, \n",
        "              optimizer=keras.optimizers.Adam(learning_rate=initial_learning_rate), \n",
        "              metrics=['accuracy'])\n",
        "callback_list = [tf.keras.callbacks.EarlyStopping(monitor='val_loss', patience=20, mode = 'min',restore_best_weights=True)]"
      ],
      "metadata": {
        "id": "7d6hWuKLgcHO"
      },
      "execution_count": 10,
      "outputs": []
    },
    {
      "cell_type": "markdown",
      "source": [
        "# Model Training"
      ],
      "metadata": {
        "id": "8zNTabN0dkPl"
      }
    },
    {
      "cell_type": "code",
      "source": [
        "history = model.fit(x=train_sample, y=train_label, batch_size=16, epochs=600\n",
        "                    ,validation_data=(test_sample,test_label),verbose=1,\n",
        "                    callbacks=callback_list)"
      ],
      "metadata": {
        "id": "YPbwIRQxZQ0j",
        "colab": {
          "base_uri": "https://localhost:8080/"
        },
        "outputId": "4ee6dea0-0876-4d23-aef4-fc4c76c2504d"
      },
      "execution_count": 11,
      "outputs": [
        {
          "output_type": "stream",
          "name": "stdout",
          "text": [
            "Epoch 1/600\n",
            "750/750 [==============================] - 22s 22ms/step - loss: 1.3497 - accuracy: 0.3166 - val_loss: 1.3220 - val_accuracy: 0.3515\n",
            "Epoch 2/600\n",
            "750/750 [==============================] - 16s 22ms/step - loss: 1.3029 - accuracy: 0.3716 - val_loss: 1.2900 - val_accuracy: 0.3880\n",
            "Epoch 3/600\n",
            "750/750 [==============================] - 15s 20ms/step - loss: 1.2781 - accuracy: 0.3956 - val_loss: 1.2512 - val_accuracy: 0.4257\n",
            "Epoch 4/600\n",
            "750/750 [==============================] - 17s 22ms/step - loss: 1.2379 - accuracy: 0.4220 - val_loss: 1.2170 - val_accuracy: 0.4293\n",
            "Epoch 5/600\n",
            "750/750 [==============================] - 15s 20ms/step - loss: 1.1814 - accuracy: 0.4678 - val_loss: 1.1505 - val_accuracy: 0.4920\n",
            "Epoch 6/600\n",
            "750/750 [==============================] - 15s 20ms/step - loss: 1.1231 - accuracy: 0.5110 - val_loss: 1.1786 - val_accuracy: 0.4890\n",
            "Epoch 7/600\n",
            "750/750 [==============================] - 15s 20ms/step - loss: 1.0822 - accuracy: 0.5321 - val_loss: 1.1322 - val_accuracy: 0.5263\n",
            "Epoch 8/600\n",
            "750/750 [==============================] - 16s 21ms/step - loss: 1.0496 - accuracy: 0.5540 - val_loss: 1.0708 - val_accuracy: 0.5395\n",
            "Epoch 9/600\n",
            "750/750 [==============================] - 16s 22ms/step - loss: 1.0113 - accuracy: 0.5778 - val_loss: 1.0024 - val_accuracy: 0.5920\n",
            "Epoch 10/600\n",
            "750/750 [==============================] - 16s 22ms/step - loss: 0.9720 - accuracy: 0.5962 - val_loss: 0.9732 - val_accuracy: 0.6047\n",
            "Epoch 11/600\n",
            "750/750 [==============================] - 16s 21ms/step - loss: 0.9336 - accuracy: 0.6167 - val_loss: 1.0503 - val_accuracy: 0.5950\n",
            "Epoch 12/600\n",
            "750/750 [==============================] - 16s 22ms/step - loss: 0.9179 - accuracy: 0.6283 - val_loss: 1.0541 - val_accuracy: 0.5680\n",
            "Epoch 13/600\n",
            "750/750 [==============================] - 16s 22ms/step - loss: 0.8800 - accuracy: 0.6429 - val_loss: 0.9610 - val_accuracy: 0.6270\n",
            "Epoch 14/600\n",
            "750/750 [==============================] - 15s 20ms/step - loss: 0.8512 - accuracy: 0.6585 - val_loss: 0.9423 - val_accuracy: 0.6298\n",
            "Epoch 15/600\n",
            "750/750 [==============================] - 15s 20ms/step - loss: 0.8291 - accuracy: 0.6686 - val_loss: 0.8950 - val_accuracy: 0.6593\n",
            "Epoch 16/600\n",
            "750/750 [==============================] - 15s 20ms/step - loss: 0.7921 - accuracy: 0.6817 - val_loss: 0.8795 - val_accuracy: 0.6488\n",
            "Epoch 17/600\n",
            "750/750 [==============================] - 15s 20ms/step - loss: 0.7869 - accuracy: 0.6885 - val_loss: 0.8093 - val_accuracy: 0.6915\n",
            "Epoch 18/600\n",
            "750/750 [==============================] - 16s 22ms/step - loss: 0.7629 - accuracy: 0.6952 - val_loss: 0.8338 - val_accuracy: 0.6817\n",
            "Epoch 19/600\n",
            "750/750 [==============================] - 15s 20ms/step - loss: 0.7461 - accuracy: 0.7070 - val_loss: 0.8669 - val_accuracy: 0.6980\n",
            "Epoch 20/600\n",
            "750/750 [==============================] - 16s 21ms/step - loss: 0.7137 - accuracy: 0.7198 - val_loss: 0.7734 - val_accuracy: 0.7132\n",
            "Epoch 21/600\n",
            "750/750 [==============================] - 16s 22ms/step - loss: 0.7029 - accuracy: 0.7239 - val_loss: 0.7263 - val_accuracy: 0.7305\n",
            "Epoch 22/600\n",
            "750/750 [==============================] - 16s 22ms/step - loss: 0.6849 - accuracy: 0.7292 - val_loss: 0.7977 - val_accuracy: 0.7122\n",
            "Epoch 23/600\n",
            "750/750 [==============================] - 16s 22ms/step - loss: 0.6698 - accuracy: 0.7404 - val_loss: 0.7614 - val_accuracy: 0.7310\n",
            "Epoch 24/600\n",
            "750/750 [==============================] - 15s 20ms/step - loss: 0.6480 - accuracy: 0.7483 - val_loss: 0.8377 - val_accuracy: 0.7072\n",
            "Epoch 25/600\n",
            "750/750 [==============================] - 15s 20ms/step - loss: 0.6316 - accuracy: 0.7518 - val_loss: 0.7755 - val_accuracy: 0.7285\n",
            "Epoch 26/600\n",
            "750/750 [==============================] - 16s 22ms/step - loss: 0.6157 - accuracy: 0.7629 - val_loss: 0.6966 - val_accuracy: 0.7525\n",
            "Epoch 27/600\n",
            "750/750 [==============================] - 16s 22ms/step - loss: 0.6022 - accuracy: 0.7657 - val_loss: 0.7722 - val_accuracy: 0.7293\n",
            "Epoch 28/600\n",
            "750/750 [==============================] - 15s 20ms/step - loss: 0.5818 - accuracy: 0.7747 - val_loss: 0.7212 - val_accuracy: 0.7585\n",
            "Epoch 29/600\n",
            "750/750 [==============================] - 15s 20ms/step - loss: 0.5717 - accuracy: 0.7813 - val_loss: 0.7973 - val_accuracy: 0.7295\n",
            "Epoch 30/600\n",
            "750/750 [==============================] - 16s 21ms/step - loss: 0.5625 - accuracy: 0.7874 - val_loss: 0.7410 - val_accuracy: 0.7300\n",
            "Epoch 31/600\n",
            "750/750 [==============================] - 15s 20ms/step - loss: 0.5492 - accuracy: 0.7873 - val_loss: 0.7836 - val_accuracy: 0.7548\n",
            "Epoch 32/600\n",
            "750/750 [==============================] - 15s 20ms/step - loss: 0.5437 - accuracy: 0.7904 - val_loss: 0.6569 - val_accuracy: 0.7742\n",
            "Epoch 33/600\n",
            "750/750 [==============================] - 15s 20ms/step - loss: 0.5148 - accuracy: 0.8038 - val_loss: 0.6783 - val_accuracy: 0.7738\n",
            "Epoch 34/600\n",
            "750/750 [==============================] - 16s 22ms/step - loss: 0.5022 - accuracy: 0.8039 - val_loss: 0.6916 - val_accuracy: 0.7670\n",
            "Epoch 35/600\n",
            "750/750 [==============================] - 15s 20ms/step - loss: 0.5082 - accuracy: 0.8069 - val_loss: 0.6543 - val_accuracy: 0.7893\n",
            "Epoch 36/600\n",
            "750/750 [==============================] - 15s 20ms/step - loss: 0.4926 - accuracy: 0.8121 - val_loss: 0.7353 - val_accuracy: 0.7628\n",
            "Epoch 37/600\n",
            "750/750 [==============================] - 16s 22ms/step - loss: 0.4744 - accuracy: 0.8199 - val_loss: 0.6939 - val_accuracy: 0.7707\n",
            "Epoch 38/600\n",
            "750/750 [==============================] - 15s 20ms/step - loss: 0.4769 - accuracy: 0.8195 - val_loss: 0.6453 - val_accuracy: 0.7778\n",
            "Epoch 39/600\n",
            "750/750 [==============================] - 15s 20ms/step - loss: 0.4692 - accuracy: 0.8225 - val_loss: 0.6871 - val_accuracy: 0.7800\n",
            "Epoch 40/600\n",
            "750/750 [==============================] - 15s 20ms/step - loss: 0.4499 - accuracy: 0.8300 - val_loss: 0.6238 - val_accuracy: 0.7928\n",
            "Epoch 41/600\n",
            "750/750 [==============================] - 16s 22ms/step - loss: 0.4361 - accuracy: 0.8345 - val_loss: 0.6612 - val_accuracy: 0.7890\n",
            "Epoch 42/600\n",
            "750/750 [==============================] - 15s 20ms/step - loss: 0.4352 - accuracy: 0.8364 - val_loss: 0.6663 - val_accuracy: 0.7730\n",
            "Epoch 43/600\n",
            "750/750 [==============================] - 16s 22ms/step - loss: 0.4146 - accuracy: 0.8429 - val_loss: 0.6653 - val_accuracy: 0.7965\n",
            "Epoch 44/600\n",
            "750/750 [==============================] - 15s 20ms/step - loss: 0.4175 - accuracy: 0.8436 - val_loss: 0.7103 - val_accuracy: 0.7890\n",
            "Epoch 45/600\n",
            "750/750 [==============================] - 16s 21ms/step - loss: 0.4041 - accuracy: 0.8450 - val_loss: 0.7079 - val_accuracy: 0.7785\n",
            "Epoch 46/600\n",
            "750/750 [==============================] - 15s 20ms/step - loss: 0.4131 - accuracy: 0.8428 - val_loss: 0.6657 - val_accuracy: 0.7922\n",
            "Epoch 47/600\n",
            "750/750 [==============================] - 16s 22ms/step - loss: 0.3867 - accuracy: 0.8518 - val_loss: 0.6062 - val_accuracy: 0.8067\n",
            "Epoch 48/600\n",
            "750/750 [==============================] - 16s 22ms/step - loss: 0.3845 - accuracy: 0.8581 - val_loss: 0.6187 - val_accuracy: 0.7937\n",
            "Epoch 49/600\n",
            "750/750 [==============================] - 15s 20ms/step - loss: 0.3803 - accuracy: 0.8547 - val_loss: 0.6056 - val_accuracy: 0.8070\n",
            "Epoch 50/600\n",
            "750/750 [==============================] - 15s 20ms/step - loss: 0.3678 - accuracy: 0.8583 - val_loss: 0.6193 - val_accuracy: 0.8198\n",
            "Epoch 51/600\n",
            "750/750 [==============================] - 16s 21ms/step - loss: 0.3695 - accuracy: 0.8622 - val_loss: 0.6395 - val_accuracy: 0.8077\n",
            "Epoch 52/600\n",
            "750/750 [==============================] - 16s 22ms/step - loss: 0.3651 - accuracy: 0.8635 - val_loss: 0.6619 - val_accuracy: 0.8065\n",
            "Epoch 53/600\n",
            "750/750 [==============================] - 16s 22ms/step - loss: 0.3547 - accuracy: 0.8652 - val_loss: 0.5582 - val_accuracy: 0.8227\n",
            "Epoch 54/600\n",
            "750/750 [==============================] - 15s 20ms/step - loss: 0.3366 - accuracy: 0.8710 - val_loss: 0.6521 - val_accuracy: 0.8138\n",
            "Epoch 55/600\n",
            "750/750 [==============================] - 16s 22ms/step - loss: 0.3378 - accuracy: 0.8723 - val_loss: 0.7329 - val_accuracy: 0.7828\n",
            "Epoch 56/600\n",
            "750/750 [==============================] - 16s 21ms/step - loss: 0.3390 - accuracy: 0.8717 - val_loss: 0.5923 - val_accuracy: 0.8188\n",
            "Epoch 57/600\n",
            "750/750 [==============================] - 15s 20ms/step - loss: 0.3300 - accuracy: 0.8739 - val_loss: 0.7239 - val_accuracy: 0.7997\n",
            "Epoch 58/600\n",
            "750/750 [==============================] - 15s 20ms/step - loss: 0.3223 - accuracy: 0.8783 - val_loss: 0.6085 - val_accuracy: 0.8190\n",
            "Epoch 59/600\n",
            "750/750 [==============================] - 15s 20ms/step - loss: 0.3192 - accuracy: 0.8771 - val_loss: 0.7131 - val_accuracy: 0.7918\n",
            "Epoch 60/600\n",
            "750/750 [==============================] - 15s 20ms/step - loss: 0.2985 - accuracy: 0.8860 - val_loss: 0.6878 - val_accuracy: 0.8163\n",
            "Epoch 61/600\n",
            "750/750 [==============================] - 16s 22ms/step - loss: 0.3032 - accuracy: 0.8876 - val_loss: 0.5844 - val_accuracy: 0.8242\n",
            "Epoch 62/600\n",
            "750/750 [==============================] - 15s 20ms/step - loss: 0.2907 - accuracy: 0.8883 - val_loss: 0.5961 - val_accuracy: 0.8260\n",
            "Epoch 63/600\n",
            "750/750 [==============================] - 16s 22ms/step - loss: 0.2924 - accuracy: 0.8874 - val_loss: 0.6409 - val_accuracy: 0.8342\n",
            "Epoch 64/600\n",
            "750/750 [==============================] - 16s 22ms/step - loss: 0.2913 - accuracy: 0.8878 - val_loss: 0.5585 - val_accuracy: 0.8340\n",
            "Epoch 65/600\n",
            "750/750 [==============================] - 16s 22ms/step - loss: 0.2992 - accuracy: 0.8885 - val_loss: 0.6300 - val_accuracy: 0.8263\n",
            "Epoch 66/600\n",
            "750/750 [==============================] - 16s 22ms/step - loss: 0.2701 - accuracy: 0.8980 - val_loss: 0.5797 - val_accuracy: 0.8407\n",
            "Epoch 67/600\n",
            "750/750 [==============================] - 16s 22ms/step - loss: 0.2781 - accuracy: 0.8958 - val_loss: 0.6032 - val_accuracy: 0.8430\n",
            "Epoch 68/600\n",
            "750/750 [==============================] - 15s 20ms/step - loss: 0.2640 - accuracy: 0.8981 - val_loss: 0.6735 - val_accuracy: 0.8133\n",
            "Epoch 69/600\n",
            "750/750 [==============================] - 16s 22ms/step - loss: 0.2764 - accuracy: 0.8981 - val_loss: 0.5940 - val_accuracy: 0.8325\n",
            "Epoch 70/600\n",
            "750/750 [==============================] - 16s 22ms/step - loss: 0.2617 - accuracy: 0.9038 - val_loss: 0.6403 - val_accuracy: 0.8322\n",
            "Epoch 71/600\n",
            "750/750 [==============================] - 15s 20ms/step - loss: 0.2529 - accuracy: 0.9024 - val_loss: 0.6673 - val_accuracy: 0.8295\n",
            "Epoch 72/600\n",
            "750/750 [==============================] - 16s 22ms/step - loss: 0.2515 - accuracy: 0.9038 - val_loss: 0.6650 - val_accuracy: 0.8320\n",
            "Epoch 73/600\n",
            "750/750 [==============================] - 15s 20ms/step - loss: 0.2617 - accuracy: 0.9038 - val_loss: 0.5848 - val_accuracy: 0.8428\n"
          ]
        }
      ]
    },
    {
      "cell_type": "code",
      "source": [
        "#tf.keras.models.save_model(model,'/content/drive/MyDrive/Colab Notebooks/Hackathon/my_lovely_unet_4.h5')"
      ],
      "metadata": {
        "id": "nh7Zu4akQRa8"
      },
      "execution_count": 12,
      "outputs": []
    },
    {
      "cell_type": "markdown",
      "source": [
        "# Model Accuracy and Loss"
      ],
      "metadata": {
        "id": "T9sQ9Ibwd1t8"
      }
    },
    {
      "cell_type": "code",
      "source": [
        "acc = history.history['accuracy']\n",
        "val_acc = history.history['val_accuracy']\n",
        "\n",
        "loss=history.history['loss']\n",
        "val_loss=history.history['val_loss']\n",
        "\n",
        "epochs_range = range(len(acc))\n",
        "\n",
        "\n",
        "plt.figure(figsize=(8, 8))\n",
        "\n",
        "plt.subplot(1, 2, 1)\n",
        "plt.plot(epochs_range, acc, label='Training Accuracy')\n",
        "plt.plot(epochs_range, val_acc, label='Validation Accuracy')\n",
        "plt.legend(loc='lower right')\n",
        "plt.title('Training and Validation Accuracy')\n",
        "\n",
        "plt.subplot(1, 2, 2)\n",
        "plt.plot(epochs_range, loss, label='Training Loss')\n",
        "plt.plot(epochs_range, val_loss, label='Validation Loss')\n",
        "plt.legend(loc='upper right')\n",
        "plt.title('Training and Validation Loss')\n",
        "plt.show()"
      ],
      "metadata": {
        "id": "DqDtlTRQeMP7",
        "colab": {
          "base_uri": "https://localhost:8080/",
          "height": 499
        },
        "outputId": "5a3a3b71-e978-442a-b88c-aacd85efb113"
      },
      "execution_count": 13,
      "outputs": [
        {
          "output_type": "display_data",
          "data": {
            "text/plain": [
              "<Figure size 576x576 with 2 Axes>"
            ],
            "image/png": "[encoded data removed]"
          },
          "metadata": {
            "needs_background": "light"
          }
        }
      ]
    },
    {
      "cell_type": "code",
      "source": [
        "predicted_result = model.predict(test_sample)\n",
        "predicted_class = np.argmax(predicted_result,axis=1)\n",
        "ground_truth_class = np.argmax(test_label,axis=1)\n",
        "from sklearn.metrics import confusion_matrix\n",
        "conf_matrix = confusion_matrix(ground_truth_class, predicted_class,normalize='true')\n",
        "import seaborn as sns\n",
        "crop_class = [\"cassava\",\"rice\",\"maize\",\"sugarcane\"]\n",
        "plt.figure(figsize = (10,10))\n",
        "sns.heatmap(conf_matrix,annot=True,fmt=\".1%\",xticklabels=crop_class,yticklabels=crop_class)"
      ],
      "metadata": {
        "id": "UXN7KcHiel16",
        "colab": {
          "base_uri": "https://localhost:8080/",
          "height": 609
        },
        "outputId": "99b58b32-3475-457e-a5ca-23ddd2bb8a7b"
      },
      "execution_count": 14,
      "outputs": [
        {
          "output_type": "execute_result",
          "data": {
            "text/plain": [
              "<matplotlib.axes._subplots.AxesSubplot at 0x7f3a391fd210>"
            ]
          },
          "metadata": {},
          "execution_count": 14
        },
        {
          "output_type": "display_data",
          "data": {
            "text/plain": [
              "<Figure size 720x720 with 2 Axes>"
            ],
            "image/png": "[encoded data removed]"
          },
          "metadata": {
            "needs_background": "light"
          }
        }
      ]
    },
    {
      "cell_type": "code",
      "source": [
        "from sklearn.metrics import classification_report\n",
        "print(classification_report(ground_truth_class, predicted_class))"
      ],
      "metadata": {
        "id": "-QwvCjGvevve",
        "colab": {
          "base_uri": "https://localhost:8080/"
        },
        "outputId": "edc04c82-6543-419f-fa63-9aa47567d689"
      },
      "execution_count": 15,
      "outputs": [
        {
          "output_type": "stream",
          "name": "stdout",
          "text": [
            "              precision    recall  f1-score   support\n",
            "\n",
            "           0       0.78      0.71      0.74       984\n",
            "           1       0.85      0.94      0.89       989\n",
            "           2       0.75      0.77      0.76       973\n",
            "           3       0.90      0.86      0.88      1054\n",
            "\n",
            "    accuracy                           0.82      4000\n",
            "   macro avg       0.82      0.82      0.82      4000\n",
            "weighted avg       0.82      0.82      0.82      4000\n",
            "\n"
          ]
        }
      ]
    },
    {
      "cell_type": "code",
      "source": [
        "test_set = np.load('/content/drive/MyDrive/Colab Notebooks/Hackathon/team_test.npy')"
      ],
      "metadata": {
        "id": "l-O2iG8vzhEU"
      },
      "execution_count": 16,
      "outputs": []
    },
    {
      "cell_type": "code",
      "source": [
        "test_set_pred = model.predict(test_set)\n",
        "test_set_class = np.argmax(test_set_pred,axis=1)\n",
        "crop_type = test_set_class+1"
      ],
      "metadata": {
        "id": "3H5fFaHWbWZl"
      },
      "execution_count": 17,
      "outputs": []
    },
    {
      "cell_type": "code",
      "source": [
        "import pandas as pd\n",
        "df = pd.Series(crop_type,name='crop_type').to_frame()\n",
        "df.to_csv('predict.csv')"
      ],
      "metadata": {
        "id": "zun1582KcA82"
      },
      "execution_count": 21,
      "outputs": []
    },
    {
      "cell_type": "code",
      "source": [
        ""
      ],
      "metadata": {
        "id": "snrASrbncHIi"
      },
      "execution_count": 23,
      "outputs": []
    },
    {
      "cell_type": "code",
      "source": [
        ""
      ],
      "metadata": {
        "id": "9PLVe3HScZOp"
      },
      "execution_count": 23,
      "outputs": []
    }
  ]
}