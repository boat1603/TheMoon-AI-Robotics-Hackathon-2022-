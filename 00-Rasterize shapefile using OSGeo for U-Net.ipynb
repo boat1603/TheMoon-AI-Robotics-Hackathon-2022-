{
 "cells": [
  {
   "cell_type": "code",
   "execution_count": 1,
   "id": "b67bbd48",
   "metadata": {},
   "outputs": [],
   "source": [
    "import numpy as np\n",
    "from osgeo import gdal, ogr, osr"
   ]
  },
  {
   "cell_type": "markdown",
   "id": "696c3d5f",
   "metadata": {},
   "source": [
    "# Shapfile list\n",
    "'train_1.shp'\\\n",
    "'train_2.shp'\\\n",
    "'train_3.shp'\\\n",
    "'train_4.shp'\\\n",
    "Shapefile of each crop type was seperated using QGIS software"
   ]
  },
  {
   "cell_type": "code",
   "execution_count": 2,
   "id": "7cd6a60b",
   "metadata": {},
   "outputs": [],
   "source": [
    "shape_file_path = r\"D:\\Hackathon\\training_area\\train_4.shp\"\n",
    "shape = ogr.Open(shape_file_path)\n",
    "layer = shape.GetLayer()"
   ]
  },
  {
   "cell_type": "markdown",
   "id": "e65d1cfa",
   "metadata": {},
   "source": [
    "# Get parameter and attribute from jp2"
   ]
  },
  {
   "cell_type": "code",
   "execution_count": 5,
   "id": "f303d805",
   "metadata": {},
   "outputs": [],
   "source": [
    "im = gdal.Open(r\"D:\\Hackathon\\Varuna Hackathon 2022\\sentinel-2 image\\2020\\20200102\\IMG_DATA\\47PQS_20200102_TCI.jp2\")"
   ]
  },
  {
   "cell_type": "code",
   "execution_count": 6,
   "id": "3e7c95dc",
   "metadata": {},
   "outputs": [],
   "source": [
    "driver = gdal.GetDriverByName('Gtiff')\n",
    "width = im.RasterXSize\n",
    "height = im.RasterYSize\n",
    "geo_transform = im.GetGeoTransform()\n",
    "proj = im.GetProjection()"
   ]
  },
  {
   "cell_type": "code",
   "execution_count": 7,
   "id": "f03ac3c7",
   "metadata": {
    "scrolled": true
   },
   "outputs": [
    {
     "name": "stdout",
     "output_type": "stream",
     "text": [
      "2051 2051\n",
      "(754360.0, 10.0, 0.0, 1688690.0, 0.0, -10.0)\n",
      "PROJCS[\"WGS 84 / UTM zone 47N\",GEOGCS[\"WGS 84\",DATUM[\"WGS_1984\",SPHEROID[\"WGS 84\",6378137,298.257223563,AUTHORITY[\"EPSG\",\"7030\"]],AUTHORITY[\"EPSG\",\"6326\"]],PRIMEM[\"Greenwich\",0,AUTHORITY[\"EPSG\",\"8901\"]],UNIT[\"degree\",0.0174532925199433,AUTHORITY[\"EPSG\",\"9122\"]],AUTHORITY[\"EPSG\",\"4326\"]],PROJECTION[\"Transverse_Mercator\"],PARAMETER[\"latitude_of_origin\",0],PARAMETER[\"central_meridian\",99],PARAMETER[\"scale_factor\",0.9996],PARAMETER[\"false_easting\",500000],PARAMETER[\"false_northing\",0],UNIT[\"metre\",1,AUTHORITY[\"EPSG\",\"9001\"]],AXIS[\"Easting\",EAST],AXIS[\"Northing\",NORTH],AUTHORITY[\"EPSG\",\"32647\"]]\n"
     ]
    }
   ],
   "source": [
    "print(width,height)\n",
    "print(geo_transform)\n",
    "print(proj)"
   ]
  },
  {
   "cell_type": "markdown",
   "id": "1f0ad572",
   "metadata": {},
   "source": [
    "# Rasterize shapefile\n",
    "Resterize shapefile into 4 mask GeoTIFF"
   ]
  },
  {
   "cell_type": "code",
   "execution_count": 10,
   "id": "1e91d613",
   "metadata": {},
   "outputs": [
    {
     "data": {
      "text/plain": [
       "0"
      ]
     },
     "execution_count": 10,
     "metadata": {},
     "output_type": "execute_result"
    }
   ],
   "source": [
    "mask_ds = driver.Create(r\"D:\\Hackathon\\mask4.tif\", width, height, 1, gdal.GDT_Byte)\n",
    "mask_ds.SetProjection(proj)\n",
    "mask_ds.SetGeoTransform(geo_transform)\n",
    "band = mask_ds.GetRasterBand(1)\n",
    "band.SetNoDataValue(0)\n",
    "gdal.RasterizeLayer(mask_ds, [1], layer, burn_values = [1])"
   ]
  },
  {
   "cell_type": "markdown",
   "id": "df53cb2c",
   "metadata": {},
   "source": [
    "# Combine GeoTIFF mask and save into npy"
   ]
  },
  {
   "cell_type": "code",
   "execution_count": null,
   "id": "87dae86a",
   "metadata": {},
   "outputs": [],
   "source": [
    "mask1 = gdal.Open(r\"D:\\Hackathon\\my_mask\\mask1.tif\")\n",
    "crop1 = mask1.GetRasterBand(1).ReadAsArray()\n",
    "\n",
    "mask2 = gdal.Open(r\"D:\\Hackathon\\my_mask\\mask2.tif\")\n",
    "crop2 = mask2.GetRasterBand(1).ReadAsArray()\n",
    "\n",
    "mask3 = gdal.Open(r\"D:\\Hackathon\\my_mask\\mask3.tif\")\n",
    "crop3 = mask3.GetRasterBand(1).ReadAsArray()\n",
    "\n",
    "mask4 = gdal.Open(r\"D:\\Hackathon\\my_mask\\mask4.tif\")\n",
    "crop4 = mask4.GetRasterBand(1).ReadAsArray()\n",
    "\n",
    "#\n",
    "allstage = (crop1 * 1) + (crop2 * 2) + (crop3 * 3) + (crop4 * 4)\n",
    "np.save('AllCropArray', allstage)"
   ]
  }
 ],
 "metadata": {
  "kernelspec": {
   "display_name": "Python 3 (ipykernel)",
   "language": "python",
   "name": "python3"
  },
  "language_info": {
   "codemirror_mode": {
    "name": "ipython",
    "version": 3
   },
   "file_extension": ".py",
   "mimetype": "text/x-python",
   "name": "python",
   "nbconvert_exporter": "python",
   "pygments_lexer": "ipython3",
   "version": "3.7.13"
  }
 },
 "nbformat": 4,
 "nbformat_minor": 5
}
