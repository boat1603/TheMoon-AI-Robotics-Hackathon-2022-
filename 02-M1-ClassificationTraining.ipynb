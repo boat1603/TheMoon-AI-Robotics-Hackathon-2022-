{
 "cells": [
  {
   "cell_type": "code",
   "execution_count": 2,
   "metadata": {},
   "outputs": [],
   "source": [
    "import torch\n",
    "import torch.nn as nn\n",
    "import torch.nn.functional as F\n",
    "from torch.utils.data import DataLoader\n",
    "import torch.optim as optim\n",
    "\n",
    "# Ref: https://github.com/rwightman/pytorch-image-models/blob/master/timm/models/efficientnet.py\n",
    "# Install: pip install timm\n",
    "import timm\n",
    "from timm.models.efficientnet import default_cfgs \n",
    "\n",
    "from tensorboardX import SummaryWriter\n",
    "\n",
    "import os\n",
    "import shutil\n",
    "import sys\n",
    "import time\n",
    "from glob import glob\n",
    "import pandas as pd\n",
    "import numpy as np\n",
    "import cv2\n",
    "import matplotlib.pyplot as plt\n",
    "from PIL import Image\n",
    "\n",
    "from torchvision import transforms as T\n",
    "\n",
    "from sklearn.model_selection import train_test_split\n",
    "\n",
    "device     = torch.device(\"cuda\" if torch.cuda.is_available() else \"cpu\")"
   ]
  },
  {
   "cell_type": "code",
   "execution_count": 3,
   "metadata": {},
   "outputs": [
    {
     "data": {
      "text/html": [
       "<div>\n",
       "<style scoped>\n",
       "    .dataframe tbody tr th:only-of-type {\n",
       "        vertical-align: middle;\n",
       "    }\n",
       "\n",
       "    .dataframe tbody tr th {\n",
       "        vertical-align: top;\n",
       "    }\n",
       "\n",
       "    .dataframe thead th {\n",
       "        text-align: right;\n",
       "    }\n",
       "</style>\n",
       "<table border=\"1\" class=\"dataframe\">\n",
       "  <thead>\n",
       "    <tr style=\"text-align: right;\">\n",
       "      <th></th>\n",
       "      <th>npy_path</th>\n",
       "      <th>classes</th>\n",
       "      <th>area_id</th>\n",
       "    </tr>\n",
       "  </thead>\n",
       "  <tbody>\n",
       "    <tr>\n",
       "      <th>0</th>\n",
       "      <td>./datasets/training_data_5d/train/train_0000_0...</td>\n",
       "      <td>0</td>\n",
       "      <td>0000</td>\n",
       "    </tr>\n",
       "    <tr>\n",
       "      <th>1</th>\n",
       "      <td>./datasets/training_data_5d/train/train_0001_0...</td>\n",
       "      <td>0</td>\n",
       "      <td>0001</td>\n",
       "    </tr>\n",
       "    <tr>\n",
       "      <th>2</th>\n",
       "      <td>./datasets/training_data_5d/train/train_0001_0...</td>\n",
       "      <td>0</td>\n",
       "      <td>0001</td>\n",
       "    </tr>\n",
       "    <tr>\n",
       "      <th>3</th>\n",
       "      <td>./datasets/training_data_5d/train/train_0002_0...</td>\n",
       "      <td>0</td>\n",
       "      <td>0002</td>\n",
       "    </tr>\n",
       "    <tr>\n",
       "      <th>4</th>\n",
       "      <td>./datasets/training_data_5d/train/train_0002_0...</td>\n",
       "      <td>0</td>\n",
       "      <td>0002</td>\n",
       "    </tr>\n",
       "    <tr>\n",
       "      <th>...</th>\n",
       "      <td>...</td>\n",
       "      <td>...</td>\n",
       "      <td>...</td>\n",
       "    </tr>\n",
       "    <tr>\n",
       "      <th>5914</th>\n",
       "      <td>./datasets/training_data_5d/train/train_1315_0...</td>\n",
       "      <td>2</td>\n",
       "      <td>1315</td>\n",
       "    </tr>\n",
       "    <tr>\n",
       "      <th>5915</th>\n",
       "      <td>./datasets/training_data_5d/train/train_1316_0...</td>\n",
       "      <td>2</td>\n",
       "      <td>1316</td>\n",
       "    </tr>\n",
       "    <tr>\n",
       "      <th>5916</th>\n",
       "      <td>./datasets/training_data_5d/train/train_1316_0...</td>\n",
       "      <td>2</td>\n",
       "      <td>1316</td>\n",
       "    </tr>\n",
       "    <tr>\n",
       "      <th>5917</th>\n",
       "      <td>./datasets/training_data_5d/train/train_1316_0...</td>\n",
       "      <td>2</td>\n",
       "      <td>1316</td>\n",
       "    </tr>\n",
       "    <tr>\n",
       "      <th>5918</th>\n",
       "      <td>./datasets/training_data_5d/train/train_1316_0...</td>\n",
       "      <td>2</td>\n",
       "      <td>1316</td>\n",
       "    </tr>\n",
       "  </tbody>\n",
       "</table>\n",
       "<p>5919 rows × 3 columns</p>\n",
       "</div>"
      ],
      "text/plain": [
       "                                               npy_path  classes area_id\n",
       "0     ./datasets/training_data_5d/train/train_0000_0...        0    0000\n",
       "1     ./datasets/training_data_5d/train/train_0001_0...        0    0001\n",
       "2     ./datasets/training_data_5d/train/train_0001_0...        0    0001\n",
       "3     ./datasets/training_data_5d/train/train_0002_0...        0    0002\n",
       "4     ./datasets/training_data_5d/train/train_0002_0...        0    0002\n",
       "...                                                 ...      ...     ...\n",
       "5914  ./datasets/training_data_5d/train/train_1315_0...        2    1315\n",
       "5915  ./datasets/training_data_5d/train/train_1316_0...        2    1316\n",
       "5916  ./datasets/training_data_5d/train/train_1316_0...        2    1316\n",
       "5917  ./datasets/training_data_5d/train/train_1316_0...        2    1316\n",
       "5918  ./datasets/training_data_5d/train/train_1316_0...        2    1316\n",
       "\n",
       "[5919 rows x 3 columns]"
      ]
     },
     "execution_count": 3,
     "metadata": {},
     "output_type": "execute_result"
    }
   ],
   "source": [
    "npy_path = glob(\"./datasets/training_data_5d/train/*.npy\")\n",
    "df = pd.Series(npy_path,name=\"npy_path\").to_frame()\n",
    "df['classes'] = df['npy_path'].apply(lambda x: int(x.split('.')[1][-1])-1)\n",
    "# df['area_id'] = df['npy_path'].apply(lambda x: x.split('_')[2])\n",
    "df['area_id'] = df['npy_path'].apply(lambda x: x.split('_')[3])\n",
    "df"
   ]
  },
  {
   "cell_type": "code",
   "execution_count": 4,
   "metadata": {
    "tags": []
   },
   "outputs": [
    {
     "data": {
      "text/plain": [
       "((5446, 3), (473, 3))"
      ]
     },
     "execution_count": 4,
     "metadata": {},
     "output_type": "execute_result"
    }
   ],
   "source": [
    "train_id,test_id = train_test_split(df['area_id'].unique(), test_size=0.1, random_state=42)\n",
    "\n",
    "# df_train, df_val = train_test_split(df, test_size=0.1, random_state=42)\n",
    "df_train = df.loc[[(i in train_id) for i in df['area_id']]]\n",
    "df_val = df.loc[[(i in test_id) for i in df['area_id']]]\n",
    "\n",
    "df_train.shape,df_val.shape"
   ]
  },
  {
   "cell_type": "code",
   "execution_count": 5,
   "metadata": {},
   "outputs": [
    {
     "data": {
      "text/plain": [
       "0    2398\n",
       "2    1913\n",
       "1     577\n",
       "3     558\n",
       "Name: classes, dtype: int64"
      ]
     },
     "execution_count": 5,
     "metadata": {},
     "output_type": "execute_result"
    }
   ],
   "source": [
    "df_train['classes'].value_counts()"
   ]
  },
  {
   "cell_type": "code",
   "execution_count": 6,
   "metadata": {},
   "outputs": [
    {
     "data": {
      "text/plain": [
       "2    600\n",
       "0    600\n",
       "1    577\n",
       "3    558\n",
       "Name: classes, dtype: int64"
      ]
     },
     "execution_count": 6,
     "metadata": {},
     "output_type": "execute_result"
    }
   ],
   "source": [
    "df_downsample = pd.concat([df_train[df_train['classes']==0].sample(600),df_train[df_train['classes']==2].sample(600)]+[df_train[df_train['classes']==1],df_train[df_train['classes']==3]])\n",
    "df_downsample = df_downsample.sample(frac=1).reset_index(drop=True)\n",
    "df_downsample['classes'].value_counts()"
   ]
  },
  {
   "cell_type": "code",
   "execution_count": 7,
   "metadata": {},
   "outputs": [
    {
     "data": {
      "text/plain": [
       "0    2398\n",
       "2    2313\n",
       "1    2308\n",
       "3    2232\n",
       "Name: classes, dtype: int64"
      ]
     },
     "execution_count": 7,
     "metadata": {},
     "output_type": "execute_result"
    }
   ],
   "source": [
    "df_upsample = pd.concat([df_train[df_train['classes']==0],df_train[df_train['classes']==2],df_train[df_train['classes']==2].sample(400)]+[df_train[df_train['classes']==1],df_train[df_train['classes']==3]]*4)\n",
    "df_upsample = df_upsample.sample(frac=1).reset_index(drop=True)\n",
    "df_upsample['classes'].value_counts()"
   ]
  },
  {
   "cell_type": "code",
   "execution_count": 8,
   "metadata": {
    "tags": []
   },
   "outputs": [],
   "source": [
    "# Dataset Loader\n",
    "class SatDataset(torch.utils.data.Dataset):\n",
    "    def __init__(self,df):\n",
    "        self.npy_path = list(df['npy_path'])\n",
    "        self.label = list(df['classes'])\n",
    "\n",
    "    def __len__(self):\n",
    "        return len(self.npy_path)\n",
    "    def __getitem__(self, idx):\n",
    "        data = np.load(self.npy_path[idx])\n",
    "        data = torch.from_numpy(np.swapaxes(data, -3, -1)).float()\n",
    "        return {'image': data, 'label': self.label[idx]}\n",
    "\n",
    "train_dataset = SatDataset(df_upsample)\n",
    "val_dataset = SatDataset(df_val)\n",
    "\n",
    "\n",
    "# dataloaders\n",
    "batch_size = 64\n",
    "train_loader = DataLoader(train_dataset, batch_size=batch_size, shuffle=True)\n",
    "test_loader  = DataLoader(val_dataset, batch_size=batch_size, shuffle=True)"
   ]
  },
  {
   "cell_type": "code",
   "execution_count": 37,
   "metadata": {},
   "outputs": [
    {
     "data": {
      "text/plain": [
       "torch.Size([5, 4])"
      ]
     },
     "execution_count": 37,
     "metadata": {},
     "output_type": "execute_result"
    }
   ],
   "source": [
    "# class ClassifierModel(torch.nn.Module):\n",
    "#     def __init__(self,num_class=4):\n",
    "#         super(ClassifierModel, self).__init__() \n",
    "#         self.backbone = torch.nn.Sequential(\n",
    "#             torch.nn.Conv2d(36, 48, kernel_size=5),\n",
    "#             torch.nn.BatchNorm2d(48),\n",
    "#             torch.nn.LeakyReLU(),\n",
    "#             torch.nn.Conv2d(48, 64, kernel_size=5),\n",
    "#             torch.nn.BatchNorm2d(64),\n",
    "#             torch.nn.LeakyReLU(),\n",
    "#             torch.nn.Conv2d(64, 128, kernel_size=5),\n",
    "#             torch.nn.BatchNorm2d(128),\n",
    "#             torch.nn.LeakyReLU(),\n",
    "#             torch.nn.Conv2d(128, 256, kernel_size=4),\n",
    "#             torch.nn.LeakyReLU(),\n",
    "#             torch.nn.Flatten()\n",
    "#             )\n",
    "#         self.classifier = torch.nn.Sequential(\n",
    "#             torch.nn.Linear(256, num_class),\n",
    "#             torch.nn.BatchNorm1d(num_class),\n",
    "#             # torch.nn.Softmax(dim=1)\n",
    "#             )\n",
    "\n",
    "\n",
    "#     def forward(self, x):\n",
    "#         x = self.backbone(x)\n",
    "#         x = self.classifier(x)\n",
    "#         return x\n",
    "    \n",
    "class ClassifierModel(torch.nn.Module):\n",
    "    def __init__(self,num_class=4):\n",
    "        super(ClassifierModel, self).__init__() \n",
    "        self.backbone = torch.nn.Sequential(\n",
    "            torch.nn.Conv2d(5, 5, kernel_size=3, padding='same', bias = False),\n",
    "            torch.nn.MaxPool2d(2),\n",
    "            torch.nn.BatchNorm2d(5),\n",
    "            torch.nn.LeakyReLU(),\n",
    "            torch.nn.Conv2d(5, 5, kernel_size=3, padding='same', bias = False),\n",
    "            torch.nn.MaxPool2d(2),\n",
    "            torch.nn.BatchNorm2d(5),\n",
    "            torch.nn.LeakyReLU(),\n",
    "            torch.nn.Conv2d(5, 5, kernel_size=3, padding='same', bias = False),\n",
    "            # torch.nn.BatchNorm2d(5),\n",
    "            torch.nn.MaxPool2d(2),\n",
    "            torch.nn.AvgPool2d(2),\n",
    "            # torch.nn.BatchNorm2d(15),\n",
    "            # torch.nn.LeakyReLU(),\n",
    "            # torch.nn.Conv2d(15, 18, kernel_size=3, padding='same'),\n",
    "            # torch.nn.MaxPool2d(2),\n",
    "            # torch.nn.BatchNorm2d(18),\n",
    "            # torch.nn.LeakyReLU(),\n",
    "            torch.nn.Flatten()\n",
    "            )\n",
    "        self.classifier = torch.nn.Sequential(\n",
    "            torch.nn.Linear(5*12, 16),\n",
    "            torch.nn.LeakyReLU(),\n",
    "            torch.nn.Dropout(0.2),\n",
    "            torch.nn.Linear(16, num_class),\n",
    "            )\n",
    "\n",
    "\n",
    "    def forward(self, x):\n",
    "        x = torch.cat([self.backbone(x[:,i*5:i*5+5]) for i in range(12)],axis=-1)\n",
    "        x = self.classifier(x)\n",
    "        return x\n",
    "    \n",
    "model = ClassifierModel()\n",
    "x = torch.rand(5,60,16,16)\n",
    "model(x).shape"
   ]
  },
  {
   "cell_type": "code",
   "execution_count": 38,
   "metadata": {},
   "outputs": [
    {
     "data": {
      "text/plain": [
       "1739"
      ]
     },
     "execution_count": 38,
     "metadata": {},
     "output_type": "execute_result"
    }
   ],
   "source": [
    "def get_n_params(model):\n",
    "    pp=0\n",
    "    for p in list(model.parameters()):\n",
    "        nn=1\n",
    "        for s in list(p.size()):\n",
    "            nn = nn*s\n",
    "        pp += nn\n",
    "    return pp\n",
    "get_n_params(model)"
   ]
  },
  {
   "cell_type": "code",
   "execution_count": 39,
   "metadata": {},
   "outputs": [],
   "source": [
    "def stream(message) :\n",
    "    try:\n",
    "        sys.stdout.write(\"\\r{%s}\" % message)\n",
    "    except:\n",
    "        #Remove non-ASCII characters from message\n",
    "        message = ''.join(i for i in message if ord(i)<128)\n",
    "        sys.stdout.write(\"\\r{%s}\" % message)\n",
    "\n",
    "def adjust_learning_rate(optimizer, epoch):\n",
    "    LR_START = 1e-5\n",
    "    LR_MAX = 1e-3\n",
    "    LR_RAMPUP_EPOCHS = 5\n",
    "    LR_SUSTAIN_EPOCHS = 0\n",
    "    LR_STEP_DECAY = 0.75\n",
    "    if epoch < LR_RAMPUP_EPOCHS:\n",
    "        lr = (LR_MAX - LR_START) / LR_RAMPUP_EPOCHS * epoch + LR_START\n",
    "    elif epoch < LR_RAMPUP_EPOCHS + LR_SUSTAIN_EPOCHS:\n",
    "        lr = LR_MAX\n",
    "    else:\n",
    "        lr = LR_MAX * LR_STEP_DECAY**((epoch - LR_RAMPUP_EPOCHS - LR_SUSTAIN_EPOCHS)//10)\n",
    "\n",
    "    for param_group in optimizer.param_groups:\n",
    "            param_group['lr'] = lr\n",
    "    return lr\n",
    "\n",
    "def save_checkpoint(state, is_best, filename='checkpoint.pth.tar'):\n",
    "    torch.save(state, filename)\n",
    "    if is_best:\n",
    "        shutil.copyfile(filename, 'model_best.pth.tar')\n",
    "\n",
    "def compute_accuracy(logit,label):\n",
    "    pred_label = logit.argmax(axis=1)\n",
    "    return (pred_label==label).sum()/logit.shape[0]\n",
    "    \n",
    "def compute_avg_w(l): # (data,num_batch)\n",
    "    sum_w_loss = 0\n",
    "    sum_w = 0\n",
    "    for i in l:\n",
    "        sum_w_loss+=i[0]*i[1]\n",
    "        sum_w+=i[1]\n",
    "    return sum_w_loss/sum_w\n",
    "\n",
    "def train(model,train_loader,test_loader,cfg,pretrained_model_checkpoint = None):\n",
    "    # model = DLA(num_classes=cfg.num_class).to(device)\n",
    "    model.to(device)\n",
    "    criterion = torch.nn.CrossEntropyLoss().to(device)\n",
    "    optimizer = torch.optim.Adam(model.parameters())\n",
    "\n",
    "    if pretrained_model_checkpoint:\n",
    "        model.load_state_dict(torch.load(pretrained_model_checkpoint)['state_dict'])\n",
    "\n",
    "    if not os.path.exists(cfg.output_directory):\n",
    "        os.mkdir(cfg.output_directory)\n",
    "    if cfg.save_to_tensorboard:\n",
    "        logger = SummaryWriter(os.path.join(cfg.output_directory, 'logs'))\n",
    "\n",
    "    \n",
    "\n",
    "    best_epoch = 0\n",
    "    best_val_loss = np.inf\n",
    "    for epoch in range(cfg.epochs):\n",
    "        print(\"Epoch: {}/{}\".format(epoch+1,cfg.epochs))\n",
    "        adjust_learning_rate(optimizer, epoch)\n",
    "        # Training Model\n",
    "        model.train()\n",
    "        pred = []\n",
    "        for i, batch in enumerate(train_loader):\n",
    "            start_time = time.time()\n",
    "            optimizer.zero_grad()\n",
    "            img = batch['image'].to(device)\n",
    "            label = batch['label'].to(device)\n",
    "            logit = model(img)\n",
    "            loss = criterion(logit,label)\n",
    "            loss.backward()\n",
    "            optimizer.step()\n",
    "            num_step = i + len(train_loader) * epoch\n",
    "            step_loss = loss.item()\n",
    "            step_accuracy = compute_accuracy(logit,label).item()\n",
    "            pred+=[(step_accuracy,label.shape[0])]\n",
    "            msg = f\"| Epoch: {epoch+1}/{cfg.epochs} ({i+1}/{len(train_loader)}) | Loss: {step_loss:#.4} | Accuracy: {step_accuracy:#.4} | {1./(time.time() - start_time):#.3} steps/s | Step: {num_step//1000}k |\"\n",
    "            stream(msg)\n",
    "            if cfg.save_to_tensorboard:\n",
    "                logger.add_scalar('Loss/train', step_loss, num_step)\n",
    "                logger.add_scalar('Accuracy/train', step_accuracy, num_step)\n",
    "\n",
    "        epoch_train_accuracy =compute_avg_w(pred)\n",
    "        msg = f\"\\n\\n| Train Accuracy: {epoch_train_accuracy:#.4} |\"\n",
    "        print(msg)\n",
    "\n",
    "        # Evaluate Model\n",
    "        model.eval()\n",
    "        losses = []\n",
    "        pred = []\n",
    "\n",
    "        for i, batch in enumerate(test_loader):\n",
    "            img = batch['image'].to(device)\n",
    "            label = batch['label'].to(device)\n",
    "            with torch.no_grad():\n",
    "                logit = model(img)\n",
    "                loss = criterion(logit,label)\n",
    "            losses+=[(loss.item(),label.shape[0])]\n",
    "            pred+=[(compute_accuracy(logit,label),label.shape[0])]\n",
    "\n",
    "        epoch_val_loss = compute_avg_w(losses)\n",
    "        epoch_val_accuracy =compute_avg_w(pred).item()\n",
    "\n",
    "        msg = f\"| Val Loss: {epoch_val_loss:#.4} | Val Accuracy: {epoch_val_accuracy:#.4} |\\n\"\n",
    "        print(msg)\n",
    "        if cfg.save_to_tensorboard:\n",
    "            logger.add_scalar('Loss/val', epoch_val_loss, epoch)\n",
    "            logger.add_scalar('Accuracy/val', epoch_val_accuracy, epoch)\n",
    "\n",
    "        save_checkpoint({\n",
    "                'epoch': epoch + 1,\n",
    "                'state_dict': model.state_dict(),\n",
    "                'optimizer' : optimizer.state_dict(),\n",
    "            }, is_best=False, filename=os.path.join(cfg.output_directory, 'checkpoint_{:04d}.pth.tar'.format(epoch)))\n",
    "        \n",
    "        # Save Best Checkpoint\n",
    "        if best_val_loss>=epoch_val_loss:\n",
    "            best_val_loss = epoch_val_loss\n",
    "            best_epoch = epoch\n",
    "            # Save Best Checkpoint\n",
    "            save_checkpoint({\n",
    "                    'epoch': epoch + 1,\n",
    "                    'state_dict': model.state_dict(),\n",
    "                    'optimizer' : optimizer.state_dict(),\n",
    "                }, is_best=False, filename=os.path.join(cfg.output_directory, 'best_checkpoint.pth.tar'.format(epoch)))\n",
    "\n",
    "        # Early Stopping\n",
    "        # Check Val loss until no improvement after which training\n",
    "        # https://www.tensorflow.org/api_docs/python/tf/keras/callbacks/EarlyStopping\n",
    "        if epoch-best_epoch>cfg.patience:\n",
    "            break\n",
    "\n"
   ]
  },
  {
   "cell_type": "code",
   "execution_count": 40,
   "metadata": {},
   "outputs": [],
   "source": [
    "# !rm -r ./weight/M1-classifier_model_checkpoint"
   ]
  },
  {
   "cell_type": "code",
   "execution_count": 41,
   "metadata": {},
   "outputs": [
    {
     "name": "stdout",
     "output_type": "stream",
     "text": [
      "Epoch: 1/100\n",
      "{| Epoch: 1/100 (145/145) | Loss: 1.385 | Accuracy: 0.2571 | 36.6 steps/s | Step: 0k |}\n",
      "\n",
      "| Train Accuracy: 0.2440 |\n",
      "| Val Loss: 1.382 | Val Accuracy: 0.1099 |\n",
      "\n",
      "Epoch: 2/100\n",
      "{| Epoch: 2/100 (145/145) | Loss: 1.293 | Accuracy: 0.4000 | 50.5 steps/s | Step: 0k |}\n",
      "\n",
      "| Train Accuracy: 0.3405 |\n",
      "| Val Loss: 1.306 | Val Accuracy: 0.3869 |\n",
      "\n",
      "Epoch: 3/100\n",
      "{| Epoch: 3/100 (145/145) | Loss: 0.9473 | Accuracy: 0.6571 | 52.5 steps/s | Step: 0k |}\n",
      "\n",
      "| Train Accuracy: 0.5259 |\n",
      "| Val Loss: 1.090 | Val Accuracy: 0.5856 |\n",
      "\n",
      "Epoch: 4/100\n",
      "{| Epoch: 4/100 (145/145) | Loss: 0.9704 | Accuracy: 0.5714 | 49.6 steps/s | Step: 0k |}\n",
      "\n",
      "| Train Accuracy: 0.6131 |\n",
      "| Val Loss: 1.095 | Val Accuracy: 0.5920 |\n",
      "\n",
      "Epoch: 5/100\n",
      "{| Epoch: 5/100 (145/145) | Loss: 0.7117 | Accuracy: 0.7429 | 49.3 steps/s | Step: 0k |}\n",
      "\n",
      "| Train Accuracy: 0.6675 |\n",
      "| Val Loss: 0.9413 | Val Accuracy: 0.6638 |\n",
      "\n",
      "Epoch: 6/100\n",
      "{| Epoch: 6/100 (145/145) | Loss: 0.7632 | Accuracy: 0.7429 | 48.5 steps/s | Step: 0k |}\n",
      "\n",
      "| Train Accuracy: 0.7099 |\n",
      "| Val Loss: 0.9313 | Val Accuracy: 0.6765 |\n",
      "\n",
      "Epoch: 7/100\n",
      "{| Epoch: 7/100 (145/145) | Loss: 0.7302 | Accuracy: 0.7714 | 50.5 steps/s | Step: 1k |}\n",
      "\n",
      "| Train Accuracy: 0.7376 |\n",
      "| Val Loss: 0.8963 | Val Accuracy: 0.6723 |\n",
      "\n",
      "Epoch: 8/100\n",
      "{| Epoch: 8/100 (145/145) | Loss: 0.7368 | Accuracy: 0.7143 | 24.0 steps/s | Step: 1k |}\n",
      "\n",
      "| Train Accuracy: 0.7542 |\n",
      "| Val Loss: 0.9659 | Val Accuracy: 0.6448 |\n",
      "\n",
      "Epoch: 9/100\n",
      "{| Epoch: 9/100 (145/145) | Loss: 0.7049 | Accuracy: 0.6857 | 49.4 steps/s | Step: 1k |}\n",
      "\n",
      "| Train Accuracy: 0.7652 |\n",
      "| Val Loss: 0.8900 | Val Accuracy: 0.6596 |\n",
      "\n",
      "Epoch: 10/100\n",
      "{| Epoch: 10/100 (145/145) | Loss: 0.6267 | Accuracy: 0.7714 | 50.3 steps/s | Step: 1k |}\n",
      "\n",
      "| Train Accuracy: 0.7698 |\n",
      "| Val Loss: 0.8147 | Val Accuracy: 0.6892 |\n",
      "\n",
      "Epoch: 11/100\n",
      "{| Epoch: 11/100 (145/145) | Loss: 0.4350 | Accuracy: 0.8857 | 50.0 steps/s | Step: 1k |}\n",
      "\n",
      "| Train Accuracy: 0.7808 |\n",
      "| Val Loss: 0.9010 | Val Accuracy: 0.7040 |\n",
      "\n",
      "Epoch: 12/100\n",
      "{| Epoch: 12/100 (145/145) | Loss: 0.5647 | Accuracy: 0.8286 | 37.5 steps/s | Step: 1k |}\n",
      "\n",
      "| Train Accuracy: 0.7855 |\n",
      "| Val Loss: 0.8778 | Val Accuracy: 0.6829 |\n",
      "\n",
      "Epoch: 13/100\n",
      "{| Epoch: 13/100 (145/145) | Loss: 0.4898 | Accuracy: 0.8000 | 49.7 steps/s | Step: 1k |}\n",
      "\n",
      "| Train Accuracy: 0.7935 |\n",
      "| Val Loss: 0.8719 | Val Accuracy: 0.6554 |\n",
      "\n",
      "Epoch: 14/100\n",
      "{| Epoch: 14/100 (145/145) | Loss: 0.5373 | Accuracy: 0.8286 | 49.4 steps/s | Step: 2k |}\n",
      "\n",
      "| Train Accuracy: 0.7941 |\n",
      "| Val Loss: 0.8336 | Val Accuracy: 0.6364 |\n",
      "\n",
      "Epoch: 15/100\n",
      "{| Epoch: 15/100 (145/145) | Loss: 0.5078 | Accuracy: 0.7714 | 13.0 steps/s | Step: 2k |}\n",
      "\n",
      "| Train Accuracy: 0.8026 |\n",
      "| Val Loss: 0.8188 | Val Accuracy: 0.6892 |\n",
      "\n",
      "Epoch: 16/100\n",
      "{| Epoch: 16/100 (145/145) | Loss: 0.5921 | Accuracy: 0.7429 | 49.2 steps/s | Step: 2k |}\n",
      "\n",
      "| Train Accuracy: 0.8051 |\n",
      "| Val Loss: 0.8584 | Val Accuracy: 0.6977 |\n",
      "\n",
      "Epoch: 17/100\n",
      "{| Epoch: 17/100 (145/145) | Loss: 0.4850 | Accuracy: 0.8000 | 46.7 steps/s | Step: 2k |}\n",
      "\n",
      "| Train Accuracy: 0.8085 |\n",
      "| Val Loss: 0.7951 | Val Accuracy: 0.6892 |\n",
      "\n",
      "Epoch: 18/100\n",
      "{| Epoch: 18/100 (145/145) | Loss: 0.5164 | Accuracy: 0.8571 | 50.2 steps/s | Step: 2k |}\n",
      "\n",
      "| Train Accuracy: 0.8107 |\n",
      "| Val Loss: 0.8009 | Val Accuracy: 0.7082 |\n",
      "\n",
      "Epoch: 19/100\n",
      "{| Epoch: 19/100 (145/145) | Loss: 0.5883 | Accuracy: 0.8000 | 49.2 steps/s | Step: 2k |}\n",
      "\n",
      "| Train Accuracy: 0.8192 |\n",
      "| Val Loss: 0.8533 | Val Accuracy: 0.6744 |\n",
      "\n",
      "Epoch: 20/100\n",
      "{| Epoch: 20/100 (145/145) | Loss: 0.5132 | Accuracy: 0.8286 | 50.0 steps/s | Step: 2k |}\n",
      "\n",
      "| Train Accuracy: 0.8127 |\n",
      "| Val Loss: 0.8405 | Val Accuracy: 0.7019 |\n",
      "\n",
      "Epoch: 21/100\n",
      "{| Epoch: 21/100 (145/145) | Loss: 0.2894 | Accuracy: 0.8571 | 45.4 steps/s | Step: 3k |}\n",
      "\n",
      "| Train Accuracy: 0.8152 |\n",
      "| Val Loss: 0.8261 | Val Accuracy: 0.6808 |\n",
      "\n",
      "Epoch: 22/100\n",
      "{| Epoch: 22/100 (145/145) | Loss: 0.2597 | Accuracy: 0.9143 | 52.6 steps/s | Step: 3k |}\n",
      "\n",
      "| Train Accuracy: 0.8170 |\n",
      "| Val Loss: 0.8372 | Val Accuracy: 0.6850 |\n",
      "\n",
      "Epoch: 23/100\n",
      "{| Epoch: 23/100 (145/145) | Loss: 0.3198 | Accuracy: 0.8000 | 19.5 steps/s | Step: 3k |}\n",
      "\n",
      "| Train Accuracy: 0.8179 |\n",
      "| Val Loss: 0.8428 | Val Accuracy: 0.6871 |\n",
      "\n",
      "Epoch: 24/100\n",
      "{| Epoch: 24/100 (145/145) | Loss: 0.3369 | Accuracy: 0.8857 | 53.2 steps/s | Step: 3k |}\n",
      "\n",
      "| Train Accuracy: 0.8235 |\n",
      "| Val Loss: 0.8097 | Val Accuracy: 0.7040 |\n",
      "\n",
      "Epoch: 25/100\n",
      "{| Epoch: 25/100 (145/145) | Loss: 0.5723 | Accuracy: 0.8286 | 46.3 steps/s | Step: 3k |}\n",
      "\n",
      "| Train Accuracy: 0.8295 |\n",
      "| Val Loss: 0.8810 | Val Accuracy: 0.6660 |\n",
      "\n",
      "Epoch: 26/100\n",
      "{| Epoch: 26/100 (145/145) | Loss: 0.4595 | Accuracy: 0.8286 | 53.0 steps/s | Step: 3k |}\n",
      "\n",
      "| Train Accuracy: 0.8229 |\n",
      "| Val Loss: 0.8361 | Val Accuracy: 0.7125 |\n",
      "\n",
      "Epoch: 27/100\n",
      "{| Epoch: 27/100 (145/145) | Loss: 0.4390 | Accuracy: 0.8571 | 65.7 steps/s | Step: 3k |}\n",
      "\n",
      "| Train Accuracy: 0.8312 |\n",
      "| Val Loss: 0.8710 | Val Accuracy: 0.6808 |\n",
      "\n",
      "Epoch: 28/100\n",
      "{| Epoch: 28/100 (145/145) | Loss: 0.4510 | Accuracy: 0.7714 | 48.3 steps/s | Step: 4k |}\n",
      "\n",
      "| Train Accuracy: 0.8297 |\n",
      "| Val Loss: 0.8317 | Val Accuracy: 0.7082 |\n",
      "\n"
     ]
    }
   ],
   "source": [
    "class cfg:\n",
    "    output_directory = \"./weight/M1-classifier_model_checkpoint_add_dropout\"\n",
    "    epochs = 100\n",
    "    num_class = 4\n",
    "    # Early Stopping Params\n",
    "    patience = 10 # Number of epochs with no improvement after which training will be stopped.\n",
    "    save_to_tensorboard = True # tensorboard --logdir ./logs\n",
    "model = ClassifierModel()\n",
    "# model.effnv2_b0_model.load_state_dict(torch.load('./weight/moco_checkpoint_gender_cls_v2/effnv2_b0_model_pretrained.pth.tar')['state_dict'] ,strict=False)\n",
    "train(model,train_loader,test_loader,cfg)"
   ]
  },
  {
   "cell_type": "code",
   "execution_count": 42,
   "metadata": {},
   "outputs": [],
   "source": [
    "model = ClassifierModel()\n",
    "model.load_state_dict(torch.load('./weight/M1-classifier_model_checkpoint_add_dropout/best_checkpoint.pth.tar')['state_dict'])\n",
    "model.cuda().eval()\n",
    "\n",
    "pred_label = []\n",
    "act_label = []\n",
    "for batch in test_loader:\n",
    "    img = batch['image'].cuda()\n",
    "    with torch.no_grad():\n",
    "        logits = model(img).cpu().numpy().argmax(axis=1)\n",
    "    pred_label += [logits]\n",
    "    act_label += [batch['label'].numpy()]\n",
    "pred_label = np.concatenate(pred_label)\n",
    "act_label = np.concatenate(act_label)  "
   ]
  },
  {
   "cell_type": "code",
   "execution_count": 43,
   "metadata": {},
   "outputs": [
    {
     "data": {
      "text/plain": [
       "0.6892177589852009"
      ]
     },
     "execution_count": 43,
     "metadata": {},
     "output_type": "execute_result"
    },
    {
     "data": {
      "image/png": "[encoded data removed]",
      "text/plain": [
       "<Figure size 360x360 with 2 Axes>"
      ]
     },
     "metadata": {
      "needs_background": "light"
     },
     "output_type": "display_data"
    }
   ],
   "source": [
    "from sklearn.metrics import confusion_matrix\n",
    "import itertools\n",
    "def plot_confusion_matrix(cm, classes,normalize=False,title='Confusion matrix',cmap=plt.cm.Blues):\n",
    "    \n",
    "    plt.figure(figsize=(5,5))\n",
    "    plt.imshow(cm, interpolation='nearest', cmap=cmap)\n",
    "    plt.title(title)\n",
    "    plt.colorbar()\n",
    "    tick_marks = np.arange(len(classes))\n",
    "    plt.xticks(tick_marks, classes, rotation=45)\n",
    "    plt.yticks(tick_marks, classes)\n",
    "\n",
    "    if normalize:\n",
    "        cm = np.round(cm.astype('float') / cm.sum(axis=1)[:, np.newaxis],4)\n",
    "\n",
    "    thresh = cm.max() / 2.\n",
    "    for i, j in itertools.product(range(cm.shape[0]), range(cm.shape[1])):\n",
    "        plt.text(j, i, cm[i, j],\n",
    "                 horizontalalignment=\"center\",\n",
    "                 color=\"white\" if cm[i, j] > thresh else \"black\")\n",
    "\n",
    "    plt.tight_layout()\n",
    "    plt.ylabel('True label') \n",
    "    plt.xlabel('Predicted label')\n",
    "\n",
    "# Downsample\n",
    "# compute the confusion matrix\n",
    "confusion_mtx = confusion_matrix(act_label , pred_label) \n",
    "# plot the confusion matrix\n",
    "plot_confusion_matrix(confusion_mtx, classes = ['cassava','rice','maize','sugarcrane'],normalize=True)\n",
    "sum(act_label==pred_label)/len(act_label)"
   ]
  },
  {
   "cell_type": "code",
   "execution_count": 44,
   "metadata": {},
   "outputs": [
    {
     "name": "stdout",
     "output_type": "stream",
     "text": [
      "              precision    recall  f1-score   support\n",
      "\n",
      "           0       0.72      0.80      0.76       222\n",
      "           1       0.60      0.63      0.61        43\n",
      "           2       0.64      0.61      0.62       160\n",
      "           3       0.86      0.50      0.63        48\n",
      "\n",
      "    accuracy                           0.69       473\n",
      "   macro avg       0.70      0.63      0.66       473\n",
      "weighted avg       0.69      0.69      0.69       473\n",
      "\n"
     ]
    }
   ],
   "source": [
    "from sklearn.metrics import classification_report\n",
    "print(classification_report(act_label, pred_label))"
   ]
  },
  {
   "cell_type": "code",
   "execution_count": 28,
   "metadata": {},
   "outputs": [
    {
     "data": {
      "text/plain": [
       "0.6680761099365751"
      ]
     },
     "execution_count": 28,
     "metadata": {},
     "output_type": "execute_result"
    },
    {
     "data": {
      "image/png": "[encoded data removed]",
      "text/plain": [
       "<Figure size 360x360 with 2 Axes>"
      ]
     },
     "metadata": {
      "needs_background": "light"
     },
     "output_type": "display_data"
    }
   ],
   "source": [
    "from sklearn.metrics import confusion_matrix\n",
    "import itertools\n",
    "def plot_confusion_matrix(cm, classes,normalize=False,title='Confusion matrix',cmap=plt.cm.Blues):\n",
    "    \n",
    "    plt.figure(figsize=(5,5))\n",
    "    plt.imshow(cm, interpolation='nearest', cmap=cmap)\n",
    "    plt.title(title)\n",
    "    plt.colorbar()\n",
    "    tick_marks = np.arange(len(classes))\n",
    "    plt.xticks(tick_marks, classes, rotation=45)\n",
    "    plt.yticks(tick_marks, classes)\n",
    "\n",
    "    if normalize:\n",
    "        cm = np.round(cm.astype('float') / cm.sum(axis=1)[:, np.newaxis],4)\n",
    "\n",
    "    thresh = cm.max() / 2.\n",
    "    for i, j in itertools.product(range(cm.shape[0]), range(cm.shape[1])):\n",
    "        plt.text(j, i, cm[i, j],\n",
    "                 horizontalalignment=\"center\",\n",
    "                 color=\"white\" if cm[i, j] > thresh else \"black\")\n",
    "\n",
    "    plt.tight_layout()\n",
    "    plt.ylabel('True label') \n",
    "    plt.xlabel('Predicted label')\n",
    "\n",
    "# Downsample\n",
    "# compute the confusion matrix\n",
    "confusion_mtx = confusion_matrix(act_label , pred_label) \n",
    "# plot the confusion matrix\n",
    "plot_confusion_matrix(confusion_mtx, classes = ['cassava','rice','maize','sugarcrane'],normalize=True)\n",
    "sum(act_label==pred_label)/len(act_label)"
   ]
  },
  {
   "cell_type": "code",
   "execution_count": 36,
   "metadata": {},
   "outputs": [
    {
     "name": "stdout",
     "output_type": "stream",
     "text": [
      "              precision    recall  f1-score   support\n",
      "\n",
      "           0       0.80      0.68      0.74       222\n",
      "           1       0.33      0.74      0.45        43\n",
      "           2       0.67      0.65      0.66       160\n",
      "           3       0.90      0.58      0.71        48\n",
      "\n",
      "    accuracy                           0.67       473\n",
      "   macro avg       0.68      0.67      0.64       473\n",
      "weighted avg       0.73      0.67      0.68       473\n",
      "\n"
     ]
    }
   ],
   "source": [
    "from sklearn.metrics import classification_report\n",
    "print(classification_report(act_label, pred_label))"
   ]
  },
  {
   "cell_type": "code",
   "execution_count": 35,
   "metadata": {},
   "outputs": [
    {
     "data": {
      "text/plain": [
       "0.6490486257928119"
      ]
     },
     "execution_count": 35,
     "metadata": {},
     "output_type": "execute_result"
    },
    {
     "data": {
      "image/png": "[encoded data removed]",
      "text/plain": [
       "<Figure size 360x360 with 2 Axes>"
      ]
     },
     "metadata": {
      "needs_background": "light"
     },
     "output_type": "display_data"
    }
   ],
   "source": [
    "# Upsample\n",
    "# compute the confusion matrix\n",
    "confusion_mtx = confusion_matrix(act_label , pred_label) \n",
    "# plot the confusion matrix\n",
    "plot_confusion_matrix(confusion_mtx, classes = ['cassava','rice','maize','sugarcrane'],normalize=True)\n",
    "sum(act_label==pred_label)/len(act_label)"
   ]
  },
  {
   "cell_type": "code",
   "execution_count": 25,
   "metadata": {},
   "outputs": [
    {
     "data": {
      "text/plain": [
       "0.718816067653277"
      ]
     },
     "execution_count": 25,
     "metadata": {},
     "output_type": "execute_result"
    },
    {
     "data": {
      "image/png": "[encoded data removed]",
      "text/plain": [
       "<Figure size 360x360 with 2 Axes>"
      ]
     },
     "metadata": {
      "needs_background": "light"
     },
     "output_type": "display_data"
    }
   ],
   "source": [
    "# Down Sampling\n",
    "# compute the confusion matrix\n",
    "confusion_mtx = confusion_matrix(act_label , pred_label) \n",
    "# plot the confusion matrix\n",
    "plot_confusion_matrix(confusion_mtx, classes = ['cassava','rice','maize','sugarcrane'],normalize=True)\n",
    "sum(act_label==pred_label)/len(act_label)"
   ]
  },
  {
   "cell_type": "code",
   "execution_count": null,
   "metadata": {},
   "outputs": [],
   "source": []
  }
 ],
 "metadata": {
  "interpreter": {
   "hash": "438727c8858bc46e257ba69863512eb04c8e9f5db9a1c7102296af502b4092eb"
  },
  "kernelspec": {
   "display_name": "Python 3 (ipykernel)",
   "language": "python",
   "name": "python3"
  },
  "language_info": {
   "codemirror_mode": {
    "name": "ipython",
    "version": 3
   },
   "file_extension": ".py",
   "mimetype": "text/x-python",
   "name": "python",
   "nbconvert_exporter": "python",
   "pygments_lexer": "ipython3",
   "version": "3.8.10"
  }
 },
 "nbformat": 4,
 "nbformat_minor": 4
}
