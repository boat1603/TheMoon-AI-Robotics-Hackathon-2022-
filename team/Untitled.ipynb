{
 "cells": [
  {
   "cell_type": "code",
   "execution_count": 34,
   "id": "fd106c73-d67f-4a1a-803f-40bf6e1bf995",
   "metadata": {},
   "outputs": [],
   "source": [
    "def crop_data(x,full_feat = None):\n",
    "    sum_0 = x.sum(axis=0)\n",
    "    sum_1 = x.sum(axis=1)\n",
    "    min_max_0 = np.nonzero(sum_0)[0]    \n",
    "    min_max_1 = np.nonzero(sum_1)[0]\n",
    "    min_0, max_0 = min(min_max_0), max(min_max_0)    \n",
    "    min_1, max_1 = min(min_max_1), max(min_max_1)\n",
    "    center_ax0 = int((max_0 + min_0)/2)\n",
    "    center_ax1 = int((max_1 + min_1)/2)\n",
    "    \n",
    "    if full_feat is not None:\n",
    "        return x[min_1:max_1+1,min_0:max_0+1],full_feat[center_ax0-20:center_ax0+20,center_ax1-20:center_ax1+20]\n",
    "    return x[min_1:max_1+1,min_0:max_0+1]"
   ]
  },
  {
   "cell_type": "code",
   "execution_count": null,
   "id": "16bbc044-10d1-4de2-8f2b-9f909a434726",
   "metadata": {},
   "outputs": [],
   "source": [
    "4 date 3 band ,ndvi, gndvi, savi"
   ]
  },
  {
   "cell_type": "code",
   "execution_count": null,
   "id": "3c928ce8-9001-4d01-9ac7-d8fe371d6441",
   "metadata": {},
   "outputs": [],
   "source": [
    "['20210804', '20210918', '20211008', '20211117']"
   ]
  },
  {
   "cell_type": "code",
   "execution_count": 9,
   "id": "ca130d9c-e759-4420-8bf8-52c1ba386504",
   "metadata": {},
   "outputs": [],
   "source": [
    "import numpy as np\n",
    "features = np.load('../datasets/image_features_NDVI_GNDVI_SAVI.npy')"
   ]
  },
  {
   "cell_type": "code",
   "execution_count": 5,
   "id": "a75cb85b-eb39-44a7-9616-d51f0bc84519",
   "metadata": {},
   "outputs": [],
   "source": [
    "date_list = ['20200102', '20200107', '20200112', '20200117', '20200122',\n",
    "       '20200127', '20200201', '20200206', '20200211', '20200216',\n",
    "       '20200221', '20200226', '20200302', '20200307', '20200312',\n",
    "       '20200317', '20200322', '20200327', '20200401', '20200406',\n",
    "       '20200411', '20200421', '20200426', '20200501', '20200506',\n",
    "       '20200511', '20200516', '20200521', '20200526', '20200531',\n",
    "       '20200605', '20200610', '20200615', '20200620', '20200625',\n",
    "       '20200630', '20200705', '20200710', '20200715', '20200720',\n",
    "       '20200725', '20200730', '20200804', '20200809', '20200814',\n",
    "       '20200819', '20200824', '20200829', '20200903', '20200908',\n",
    "       '20200913', '20200918', '20200923', '20200928', '20201003',\n",
    "       '20201008', '20201013', '20201018', '20201023', '20201028',\n",
    "       '20201102', '20201107', '20201112', '20201117', '20201122',\n",
    "       '20201127', '20201202', '20201207', '20201212', '20201217',\n",
    "       '20201227', '20210101', '20210106', '20210111', '20210116',\n",
    "       '20210121', '20210126', '20210205', '20210210', '20210215',\n",
    "       '20210220', '20210225', '20210302', '20210307', '20210312',\n",
    "       '20210317', '20210322', '20210327', '20210401', '20210406',\n",
    "       '20210411', '20210416', '20210421', '20210426', '20210501',\n",
    "       '20210506', '20210511', '20210516', '20210521', '20210526',\n",
    "       '20210531', '20210605', '20210610', '20210615', '20210620',\n",
    "       '20210625', '20210630', '20210705', '20210710', '20210715',\n",
    "       '20210720', '20210725', '20210730', '20210804', '20210809',\n",
    "       '20210814', '20210819', '20210824', '20210829', '20210903',\n",
    "       '20210908', '20210913', '20210918', '20210923', '20210928',\n",
    "       '20211003', '20211008', '20211013', '20211018', '20211023',\n",
    "       '20211028', '20211102', '20211107', '20211117', '20211122',\n",
    "       '20211127', '20211202', '20211207', '20211212', '20211217',\n",
    "       '20211222', '20211227']"
   ]
  },
  {
   "cell_type": "code",
   "execution_count": 7,
   "id": "3135c778-819d-463d-9c01-369771f1610d",
   "metadata": {},
   "outputs": [
    {
     "data": {
      "text/plain": [
       "(113, 122, 126, 133)"
      ]
     },
     "execution_count": 7,
     "metadata": {},
     "output_type": "execute_result"
    }
   ],
   "source": [
    "date_list.index('20210804'),date_list.index('20210918'),date_list.index('20211008'),date_list.index('20211117')"
   ]
  },
  {
   "cell_type": "code",
   "execution_count": 55,
   "id": "40635225-3189-4065-a3ce-d0651d11fdec",
   "metadata": {},
   "outputs": [],
   "source": [
    "all_features = np.concatenate([features[113], features[122], features[126], features[133]], axis=2)"
   ]
  },
  {
   "cell_type": "code",
   "execution_count": 56,
   "id": "dede5d57-aba4-484f-8367-7f1836ada89a",
   "metadata": {},
   "outputs": [
    {
     "data": {
      "text/plain": [
       "(2051, 2051, 12)"
      ]
     },
     "execution_count": 56,
     "metadata": {},
     "output_type": "execute_result"
    }
   ],
   "source": [
    "all_features.shape"
   ]
  },
  {
   "cell_type": "code",
   "execution_count": 67,
   "id": "13b0d701-f258-48cd-90cb-273c272d5a59",
   "metadata": {},
   "outputs": [],
   "source": [
    "mask =np.load('../datasets/masks_test.npy')"
   ]
  },
  {
   "cell_type": "code",
   "execution_count": 35,
   "id": "e1b3beb4-ce90-4b17-8346-a28412e0d761",
   "metadata": {},
   "outputs": [],
   "source": [
    "_,temp = crop_data(mask[0],all_features)"
   ]
  },
  {
   "cell_type": "code",
   "execution_count": 36,
   "id": "f50c8776-3d13-4360-a523-ffccd56e559d",
   "metadata": {},
   "outputs": [
    {
     "data": {
      "text/plain": [
       "(40, 40, 12)"
      ]
     },
     "execution_count": 36,
     "metadata": {},
     "output_type": "execute_result"
    }
   ],
   "source": [
    "temp.shape"
   ]
  },
  {
   "cell_type": "code",
   "execution_count": 68,
   "id": "baefb332-b958-41ce-abf1-1da37455e1b6",
   "metadata": {},
   "outputs": [],
   "source": [
    "def pad_zero_square_img(img,min_size = 2100):\n",
    "    if img.ndim==2:\n",
    "        H,W = img.shape\n",
    "        if min_size>W:\n",
    "            d = min_size-W\n",
    "            pad_left = np.zeros((H,d//2+d%2))\n",
    "            pad_right = np.zeros((H,d//2))\n",
    "            img = np.concatenate([pad_left,img,pad_right],axis=1)\n",
    "        if min_size>H:\n",
    "            d = min_size-H\n",
    "            pad_top = np.zeros((d//2+d%2,max(min_size,W)))\n",
    "            pad_btm = np.zeros((d//2,max(min_size,W)))\n",
    "            img = np.concatenate([pad_top,img,pad_btm],axis=0)\n",
    "        return img\n",
    "    else:\n",
    "        H,W,n_dim = img.shape\n",
    "        if min_size>W:\n",
    "            d = min_size-W\n",
    "            pad_left = np.zeros((H,d//2+d%2,n_dim))\n",
    "            pad_right = np.zeros((H,d//2,n_dim))\n",
    "            img = np.concatenate([pad_left,img,pad_right],axis=1)\n",
    "        if min_size>H:\n",
    "            d = min_size-H\n",
    "            pad_top = np.zeros((d//2+d%2,max(min_size,W),n_dim))\n",
    "            pad_btm = np.zeros((d//2,max(min_size,W),n_dim))\n",
    "            img = np.concatenate([pad_top,img,pad_btm],axis=0)\n",
    "        return img"
   ]
  },
  {
   "cell_type": "code",
   "execution_count": 69,
   "id": "e49aa850-f74b-46aa-b3a0-a493f4d3f056",
   "metadata": {},
   "outputs": [],
   "source": [
    "all_features_pad = pad_zero_square_img(all_features.copy())"
   ]
  },
  {
   "cell_type": "code",
   "execution_count": 70,
   "id": "80dfa233-4a61-4e4b-a42d-c58695917195",
   "metadata": {},
   "outputs": [],
   "source": [
    "mask_test_pad = pad_zero_square_img(mask_test.copy())"
   ]
  },
  {
   "cell_type": "code",
   "execution_count": 71,
   "id": "8e121219-d3dd-4f76-814b-5f99ca224092",
   "metadata": {},
   "outputs": [],
   "source": [
    "test_set_img = []\n",
    "for mask_test in mask:\n",
    "    \n",
    "    mask_test_pad = pad_zero_square_img(mask_test.copy())\n",
    "    \n",
    "    _,temp = crop_data(mask_test_pad,all_features_pad)\n",
    "    \n",
    "    if temp.shape != (40,40,12):\n",
    "        print(temp.shape)\n",
    "    test_set_img.append(temp.copy())"
   ]
  },
  {
   "cell_type": "code",
   "execution_count": 72,
   "id": "05812bf0-cbed-4e13-909b-07652fb6bed5",
   "metadata": {},
   "outputs": [],
   "source": [
    "test_set_img = np.array(test_set_img)"
   ]
  },
  {
   "cell_type": "code",
   "execution_count": 73,
   "id": "d98a7917-edfb-4064-9392-3025c78388d0",
   "metadata": {},
   "outputs": [
    {
     "data": {
      "text/plain": [
       "(565, 40, 40, 12)"
      ]
     },
     "execution_count": 73,
     "metadata": {},
     "output_type": "execute_result"
    }
   ],
   "source": [
    "test_set_img.shape"
   ]
  },
  {
   "cell_type": "code",
   "execution_count": 74,
   "id": "7e53e74d-85f7-4995-9dfe-81471a511c87",
   "metadata": {},
   "outputs": [],
   "source": [
    "np.save('team_test.npy',test_set_img)"
   ]
  },
  {
   "cell_type": "code",
   "execution_count": null,
   "id": "4ddfb2a0-fc3b-4870-9c88-2d5301a93aaf",
   "metadata": {},
   "outputs": [],
   "source": []
  }
 ],
 "metadata": {
  "kernelspec": {
   "display_name": "Python 3 (ipykernel)",
   "language": "python",
   "name": "python3"
  },
  "language_info": {
   "codemirror_mode": {
    "name": "ipython",
    "version": 3
   },
   "file_extension": ".py",
   "mimetype": "text/x-python",
   "name": "python",
   "nbconvert_exporter": "python",
   "pygments_lexer": "ipython3",
   "version": "3.8.10"
  }
 },
 "nbformat": 4,
 "nbformat_minor": 5
}
