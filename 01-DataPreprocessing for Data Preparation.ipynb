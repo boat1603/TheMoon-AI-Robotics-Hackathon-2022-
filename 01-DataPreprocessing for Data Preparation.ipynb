{
 "cells": [
  {
   "cell_type": "code",
   "execution_count": 1,
   "id": "093e0204-0011-473d-8171-596857335a82",
   "metadata": {},
   "outputs": [],
   "source": [
    "import cv2\n",
    "from glob import glob\n",
    "import pandas as pd\n",
    "import numpy as np\n",
    "\n",
    "import torch\n",
    "\n",
    "import rasterio\n",
    "from rasterio.mask import mask\n",
    "import geopandas as gpd\n",
    "\n",
    "import matplotlib.pyplot as plt\n",
    "%matplotlib inline"
   ]
  },
  {
   "cell_type": "code",
   "execution_count": 2,
   "id": "1b467dc5-823f-4e3d-8f46-8762f583d7b2",
   "metadata": {},
   "outputs": [
    {
     "data": {
      "text/html": [
       "<div>\n",
       "<style scoped>\n",
       "    .dataframe tbody tr th:only-of-type {\n",
       "        vertical-align: middle;\n",
       "    }\n",
       "\n",
       "    .dataframe tbody tr th {\n",
       "        vertical-align: top;\n",
       "    }\n",
       "\n",
       "    .dataframe thead th {\n",
       "        text-align: right;\n",
       "    }\n",
       "</style>\n",
       "<table border=\"1\" class=\"dataframe\">\n",
       "  <thead>\n",
       "    <tr style=\"text-align: right;\">\n",
       "      <th></th>\n",
       "      <th>years</th>\n",
       "      <th>crop_type</th>\n",
       "      <th>geometry</th>\n",
       "      <th>area</th>\n",
       "    </tr>\n",
       "  </thead>\n",
       "  <tbody>\n",
       "    <tr>\n",
       "      <th>0</th>\n",
       "      <td>2021</td>\n",
       "      <td>1</td>\n",
       "      <td>POLYGON ((774604.014 1671240.055, 774606.506 1...</td>\n",
       "      <td>7395.766301</td>\n",
       "    </tr>\n",
       "    <tr>\n",
       "      <th>1</th>\n",
       "      <td>2021</td>\n",
       "      <td>1</td>\n",
       "      <td>POLYGON ((773367.837 1670278.438, 773389.600 1...</td>\n",
       "      <td>12760.987757</td>\n",
       "    </tr>\n",
       "    <tr>\n",
       "      <th>2</th>\n",
       "      <td>2021</td>\n",
       "      <td>1</td>\n",
       "      <td>POLYGON ((771648.671 1673990.960, 771707.027 1...</td>\n",
       "      <td>41971.752161</td>\n",
       "    </tr>\n",
       "    <tr>\n",
       "      <th>3</th>\n",
       "      <td>2021</td>\n",
       "      <td>3</td>\n",
       "      <td>POLYGON ((771306.117 1674174.738, 771426.678 1...</td>\n",
       "      <td>8416.322100</td>\n",
       "    </tr>\n",
       "    <tr>\n",
       "      <th>4</th>\n",
       "      <td>2021</td>\n",
       "      <td>2</td>\n",
       "      <td>POLYGON ((763750.339 1678588.825, 763879.691 1...</td>\n",
       "      <td>13915.426881</td>\n",
       "    </tr>\n",
       "    <tr>\n",
       "      <th>...</th>\n",
       "      <td>...</td>\n",
       "      <td>...</td>\n",
       "      <td>...</td>\n",
       "      <td>...</td>\n",
       "    </tr>\n",
       "    <tr>\n",
       "      <th>1312</th>\n",
       "      <td>2021</td>\n",
       "      <td>3</td>\n",
       "      <td>POLYGON ((769004.617 1679027.544, 769130.199 1...</td>\n",
       "      <td>19370.802033</td>\n",
       "    </tr>\n",
       "    <tr>\n",
       "      <th>1313</th>\n",
       "      <td>2021</td>\n",
       "      <td>3</td>\n",
       "      <td>POLYGON ((772624.509 1673384.254, 772770.291 1...</td>\n",
       "      <td>5249.190746</td>\n",
       "    </tr>\n",
       "    <tr>\n",
       "      <th>1314</th>\n",
       "      <td>2021</td>\n",
       "      <td>1</td>\n",
       "      <td>POLYGON ((774333.243 1669788.192, 774337.269 1...</td>\n",
       "      <td>17355.845596</td>\n",
       "    </tr>\n",
       "    <tr>\n",
       "      <th>1315</th>\n",
       "      <td>2021</td>\n",
       "      <td>3</td>\n",
       "      <td>POLYGON ((768880.988 1687424.354, 768996.565 1...</td>\n",
       "      <td>19346.460336</td>\n",
       "    </tr>\n",
       "    <tr>\n",
       "      <th>1316</th>\n",
       "      <td>2021</td>\n",
       "      <td>3</td>\n",
       "      <td>POLYGON ((767563.319 1686486.012, 767559.588 1...</td>\n",
       "      <td>26623.104296</td>\n",
       "    </tr>\n",
       "  </tbody>\n",
       "</table>\n",
       "<p>1317 rows × 4 columns</p>\n",
       "</div>"
      ],
      "text/plain": [
       "     years crop_type                                           geometry  \\\n",
       "0     2021         1  POLYGON ((774604.014 1671240.055, 774606.506 1...   \n",
       "1     2021         1  POLYGON ((773367.837 1670278.438, 773389.600 1...   \n",
       "2     2021         1  POLYGON ((771648.671 1673990.960, 771707.027 1...   \n",
       "3     2021         3  POLYGON ((771306.117 1674174.738, 771426.678 1...   \n",
       "4     2021         2  POLYGON ((763750.339 1678588.825, 763879.691 1...   \n",
       "...    ...       ...                                                ...   \n",
       "1312  2021         3  POLYGON ((769004.617 1679027.544, 769130.199 1...   \n",
       "1313  2021         3  POLYGON ((772624.509 1673384.254, 772770.291 1...   \n",
       "1314  2021         1  POLYGON ((774333.243 1669788.192, 774337.269 1...   \n",
       "1315  2021         3  POLYGON ((768880.988 1687424.354, 768996.565 1...   \n",
       "1316  2021         3  POLYGON ((767563.319 1686486.012, 767559.588 1...   \n",
       "\n",
       "              area  \n",
       "0      7395.766301  \n",
       "1     12760.987757  \n",
       "2     41971.752161  \n",
       "3      8416.322100  \n",
       "4     13915.426881  \n",
       "...            ...  \n",
       "1312  19370.802033  \n",
       "1313   5249.190746  \n",
       "1314  17355.845596  \n",
       "1315  19346.460336  \n",
       "1316  26623.104296  \n",
       "\n",
       "[1317 rows x 4 columns]"
      ]
     },
     "execution_count": 2,
     "metadata": {},
     "output_type": "execute_result"
    }
   ],
   "source": [
    "df_train = gpd.read_file(\"datasets/Varuna Hackathon 2022/training_area/traindata.shp\")\n",
    "df_test = gpd.read_file(\"datasets/Varuna Hackathon 2022/testing_area/testdata.shp\")\n",
    "\n",
    "grid_aoi = gpd.read_file(\"datasets/Varuna Hackathon 2022/Grid_AOI/AOI.shp\")\n",
    "\n",
    "df_train['area'] = df_train['geometry'].apply(lambda x: x.area)\n",
    "df_test['area'] = df_test['geometry'].apply(lambda x: x.area)\n",
    "\n",
    "df_train"
   ]
  },
  {
   "cell_type": "code",
   "execution_count": 3,
   "id": "1cdaef64-cde3-4b38-9b34-6e003803694b",
   "metadata": {},
   "outputs": [
    {
     "data": {
      "text/html": [
       "<div>\n",
       "<style scoped>\n",
       "    .dataframe tbody tr th:only-of-type {\n",
       "        vertical-align: middle;\n",
       "    }\n",
       "\n",
       "    .dataframe tbody tr th {\n",
       "        vertical-align: top;\n",
       "    }\n",
       "\n",
       "    .dataframe thead th {\n",
       "        text-align: right;\n",
       "    }\n",
       "</style>\n",
       "<table border=\"1\" class=\"dataframe\">\n",
       "  <thead>\n",
       "    <tr style=\"text-align: right;\">\n",
       "      <th></th>\n",
       "      <th>raw_path</th>\n",
       "      <th>year</th>\n",
       "      <th>yyyymmdd</th>\n",
       "      <th>filetype</th>\n",
       "      <th>filename</th>\n",
       "      <th>band</th>\n",
       "      <th>file_format</th>\n",
       "      <th>mm</th>\n",
       "      <th>dd</th>\n",
       "    </tr>\n",
       "  </thead>\n",
       "  <tbody>\n",
       "    <tr>\n",
       "      <th>0</th>\n",
       "      <td>datasets/Varuna Hackathon 2022/sentinel-2 imag...</td>\n",
       "      <td>2020</td>\n",
       "      <td>20200102</td>\n",
       "      <td>IMG_DATA</td>\n",
       "      <td>47PQS_20200102_AOT.jp2</td>\n",
       "      <td>AOT</td>\n",
       "      <td>jp2</td>\n",
       "      <td>01</td>\n",
       "      <td>02</td>\n",
       "    </tr>\n",
       "    <tr>\n",
       "      <th>1</th>\n",
       "      <td>datasets/Varuna Hackathon 2022/sentinel-2 imag...</td>\n",
       "      <td>2020</td>\n",
       "      <td>20200102</td>\n",
       "      <td>IMG_DATA</td>\n",
       "      <td>47PQS_20200102_B01.jp2</td>\n",
       "      <td>B01</td>\n",
       "      <td>jp2</td>\n",
       "      <td>01</td>\n",
       "      <td>02</td>\n",
       "    </tr>\n",
       "    <tr>\n",
       "      <th>2</th>\n",
       "      <td>datasets/Varuna Hackathon 2022/sentinel-2 imag...</td>\n",
       "      <td>2020</td>\n",
       "      <td>20200102</td>\n",
       "      <td>IMG_DATA</td>\n",
       "      <td>47PQS_20200102_B02.jp2</td>\n",
       "      <td>B02</td>\n",
       "      <td>jp2</td>\n",
       "      <td>01</td>\n",
       "      <td>02</td>\n",
       "    </tr>\n",
       "    <tr>\n",
       "      <th>3</th>\n",
       "      <td>datasets/Varuna Hackathon 2022/sentinel-2 imag...</td>\n",
       "      <td>2020</td>\n",
       "      <td>20200102</td>\n",
       "      <td>IMG_DATA</td>\n",
       "      <td>47PQS_20200102_B03.jp2</td>\n",
       "      <td>B03</td>\n",
       "      <td>jp2</td>\n",
       "      <td>01</td>\n",
       "      <td>02</td>\n",
       "    </tr>\n",
       "    <tr>\n",
       "      <th>4</th>\n",
       "      <td>datasets/Varuna Hackathon 2022/sentinel-2 imag...</td>\n",
       "      <td>2020</td>\n",
       "      <td>20200102</td>\n",
       "      <td>IMG_DATA</td>\n",
       "      <td>47PQS_20200102_B04.jp2</td>\n",
       "      <td>B04</td>\n",
       "      <td>jp2</td>\n",
       "      <td>01</td>\n",
       "      <td>02</td>\n",
       "    </tr>\n",
       "    <tr>\n",
       "      <th>...</th>\n",
       "      <td>...</td>\n",
       "      <td>...</td>\n",
       "      <td>...</td>\n",
       "      <td>...</td>\n",
       "      <td>...</td>\n",
       "      <td>...</td>\n",
       "      <td>...</td>\n",
       "      <td>...</td>\n",
       "      <td>...</td>\n",
       "    </tr>\n",
       "    <tr>\n",
       "      <th>2125</th>\n",
       "      <td>datasets/Varuna Hackathon 2022/sentinel-2 imag...</td>\n",
       "      <td>2021</td>\n",
       "      <td>20211227</td>\n",
       "      <td>IMG_DATA</td>\n",
       "      <td>47PQS_20211227_B12.jp2</td>\n",
       "      <td>B12</td>\n",
       "      <td>jp2</td>\n",
       "      <td>12</td>\n",
       "      <td>27</td>\n",
       "    </tr>\n",
       "    <tr>\n",
       "      <th>2126</th>\n",
       "      <td>datasets/Varuna Hackathon 2022/sentinel-2 imag...</td>\n",
       "      <td>2021</td>\n",
       "      <td>20211227</td>\n",
       "      <td>IMG_DATA</td>\n",
       "      <td>47PQS_20211227_B8A.jp2</td>\n",
       "      <td>B8A</td>\n",
       "      <td>jp2</td>\n",
       "      <td>12</td>\n",
       "      <td>27</td>\n",
       "    </tr>\n",
       "    <tr>\n",
       "      <th>2127</th>\n",
       "      <td>datasets/Varuna Hackathon 2022/sentinel-2 imag...</td>\n",
       "      <td>2021</td>\n",
       "      <td>20211227</td>\n",
       "      <td>IMG_DATA</td>\n",
       "      <td>47PQS_20211227_SCL.jp2</td>\n",
       "      <td>SCL</td>\n",
       "      <td>jp2</td>\n",
       "      <td>12</td>\n",
       "      <td>27</td>\n",
       "    </tr>\n",
       "    <tr>\n",
       "      <th>2128</th>\n",
       "      <td>datasets/Varuna Hackathon 2022/sentinel-2 imag...</td>\n",
       "      <td>2021</td>\n",
       "      <td>20211227</td>\n",
       "      <td>IMG_DATA</td>\n",
       "      <td>47PQS_20211227_TCI.jp2</td>\n",
       "      <td>TCI</td>\n",
       "      <td>jp2</td>\n",
       "      <td>12</td>\n",
       "      <td>27</td>\n",
       "    </tr>\n",
       "    <tr>\n",
       "      <th>2129</th>\n",
       "      <td>datasets/Varuna Hackathon 2022/sentinel-2 imag...</td>\n",
       "      <td>2021</td>\n",
       "      <td>20211227</td>\n",
       "      <td>IMG_DATA</td>\n",
       "      <td>47PQS_20211227_WVP.jp2</td>\n",
       "      <td>WVP</td>\n",
       "      <td>jp2</td>\n",
       "      <td>12</td>\n",
       "      <td>27</td>\n",
       "    </tr>\n",
       "  </tbody>\n",
       "</table>\n",
       "<p>2130 rows × 9 columns</p>\n",
       "</div>"
      ],
      "text/plain": [
       "                                               raw_path  year  yyyymmdd  \\\n",
       "0     datasets/Varuna Hackathon 2022/sentinel-2 imag...  2020  20200102   \n",
       "1     datasets/Varuna Hackathon 2022/sentinel-2 imag...  2020  20200102   \n",
       "2     datasets/Varuna Hackathon 2022/sentinel-2 imag...  2020  20200102   \n",
       "3     datasets/Varuna Hackathon 2022/sentinel-2 imag...  2020  20200102   \n",
       "4     datasets/Varuna Hackathon 2022/sentinel-2 imag...  2020  20200102   \n",
       "...                                                 ...   ...       ...   \n",
       "2125  datasets/Varuna Hackathon 2022/sentinel-2 imag...  2021  20211227   \n",
       "2126  datasets/Varuna Hackathon 2022/sentinel-2 imag...  2021  20211227   \n",
       "2127  datasets/Varuna Hackathon 2022/sentinel-2 imag...  2021  20211227   \n",
       "2128  datasets/Varuna Hackathon 2022/sentinel-2 imag...  2021  20211227   \n",
       "2129  datasets/Varuna Hackathon 2022/sentinel-2 imag...  2021  20211227   \n",
       "\n",
       "      filetype                filename band file_format  mm  dd  \n",
       "0     IMG_DATA  47PQS_20200102_AOT.jp2  AOT         jp2  01  02  \n",
       "1     IMG_DATA  47PQS_20200102_B01.jp2  B01         jp2  01  02  \n",
       "2     IMG_DATA  47PQS_20200102_B02.jp2  B02         jp2  01  02  \n",
       "3     IMG_DATA  47PQS_20200102_B03.jp2  B03         jp2  01  02  \n",
       "4     IMG_DATA  47PQS_20200102_B04.jp2  B04         jp2  01  02  \n",
       "...        ...                     ...  ...         ...  ..  ..  \n",
       "2125  IMG_DATA  47PQS_20211227_B12.jp2  B12         jp2  12  27  \n",
       "2126  IMG_DATA  47PQS_20211227_B8A.jp2  B8A         jp2  12  27  \n",
       "2127  IMG_DATA  47PQS_20211227_SCL.jp2  SCL         jp2  12  27  \n",
       "2128  IMG_DATA  47PQS_20211227_TCI.jp2  TCI         jp2  12  27  \n",
       "2129  IMG_DATA  47PQS_20211227_WVP.jp2  WVP         jp2  12  27  \n",
       "\n",
       "[2130 rows x 9 columns]"
      ]
     },
     "execution_count": 3,
     "metadata": {},
     "output_type": "execute_result"
    }
   ],
   "source": [
    "def extract_feature(x):\n",
    "    file_sep = x.split('.')\n",
    "    name_feature = file_sep[0].split('_')\n",
    "    return [name_feature[2],file_sep[-1]]\n",
    "\n",
    "file_path = glob('datasets/Varuna Hackathon 2022/sentinel-2 image/*/*/*/*')\n",
    "df_img = pd.DataFrame([[i]+i.split('/')[-4:] for i in file_path],columns=['raw_path','year','yyyymmdd','filetype','filename'])\n",
    "df_img = df_img[df_img['filetype']==\"IMG_DATA\"].reset_index(drop=True)\n",
    "\n",
    "df_file_feat = pd.DataFrame([extract_feature(df_img['filename'][i]) for i in range(df_img.shape[0])],columns=['band','file_format'])\n",
    "df_img = pd.concat([df_img,df_file_feat],axis=1)\n",
    "df_img = df_img[df_img.file_format==\"jp2\"].reset_index(drop=True)\n",
    "df_img['mm'] = df_img.yyyymmdd.apply(lambda x: x[4:6])\n",
    "df_img['dd'] = df_img.yyyymmdd.apply(lambda x: x[6:])\n",
    "df_img"
   ]
  },
  {
   "cell_type": "code",
   "execution_count": 4,
   "id": "585fb8c0-e529-484f-a1cd-8a0a1d992ec0",
   "metadata": {},
   "outputs": [
    {
     "data": {
      "text/plain": [
       "array(['20200102', '20200107', '20200112', '20200117', '20200122',\n",
       "       '20200127', '20200201', '20200206', '20200211', '20200216',\n",
       "       '20200221', '20200226', '20200302', '20200307', '20200312',\n",
       "       '20200317', '20200322', '20200327', '20200401', '20200406',\n",
       "       '20200411', '20200421', '20200426', '20200501', '20200506',\n",
       "       '20200511', '20200516', '20200521', '20200526', '20200531',\n",
       "       '20200605', '20200610', '20200615', '20200620', '20200625',\n",
       "       '20200630', '20200705', '20200710', '20200715', '20200720',\n",
       "       '20200725', '20200730', '20200804', '20200809', '20200814',\n",
       "       '20200819', '20200824', '20200829', '20200903', '20200908',\n",
       "       '20200913', '20200918', '20200923', '20200928', '20201003',\n",
       "       '20201008', '20201013', '20201018', '20201023', '20201028',\n",
       "       '20201102', '20201107', '20201112', '20201117', '20201122',\n",
       "       '20201127', '20201202', '20201207', '20201212', '20201217',\n",
       "       '20201227', '20210101', '20210106', '20210111', '20210116',\n",
       "       '20210121', '20210126', '20210205', '20210210', '20210215',\n",
       "       '20210220', '20210225', '20210302', '20210307', '20210312',\n",
       "       '20210317', '20210322', '20210327', '20210401', '20210406',\n",
       "       '20210411', '20210416', '20210421', '20210426', '20210501',\n",
       "       '20210506', '20210511', '20210516', '20210521', '20210526',\n",
       "       '20210531', '20210605', '20210610', '20210615', '20210620',\n",
       "       '20210625', '20210630', '20210705', '20210710', '20210715',\n",
       "       '20210720', '20210725', '20210730', '20210804', '20210809',\n",
       "       '20210814', '20210819', '20210824', '20210829', '20210903',\n",
       "       '20210908', '20210913', '20210918', '20210923', '20210928',\n",
       "       '20211003', '20211008', '20211013', '20211018', '20211023',\n",
       "       '20211028', '20211102', '20211107', '20211117', '20211122',\n",
       "       '20211127', '20211202', '20211207', '20211212', '20211217',\n",
       "       '20211222', '20211227'], dtype=object)"
      ]
     },
     "execution_count": 4,
     "metadata": {},
     "output_type": "execute_result"
    }
   ],
   "source": [
    "df_img.yyyymmdd.unique()"
   ]
  },
  {
   "cell_type": "markdown",
   "id": "f9aa9280-8181-41dd-a5e9-d7962662b168",
   "metadata": {
    "jp-MarkdownHeadingCollapsed": true,
    "tags": []
   },
   "source": [
    "# Mask Preprocessing"
   ]
  },
  {
   "cell_type": "code",
   "execution_count": 12,
   "id": "ee6b4e28-417d-4308-964a-a5ea94784d55",
   "metadata": {},
   "outputs": [],
   "source": [
    "# Create Mask File\n",
    "from rasterio.plot import show\n",
    "# shapes = [df_train.geometry[1177]] # [0]\n",
    "# with rasterio.open(\"white.jp2\") as src:\n",
    "src = rasterio.open(\"white.jp2\")\n",
    "masks_train = []\n",
    "for shape in df_train.geometry:\n",
    "    out_image, out_transform = mask(src, [shape], crop=False)\n",
    "    out_image = (out_image!=0)\n",
    "    masks_train += [out_image]\n",
    "masks_train = np.concatenate(masks_train)"
   ]
  },
  {
   "cell_type": "code",
   "execution_count": 141,
   "id": "c2ce67ef-4e79-474c-b646-6fe75e79bc67",
   "metadata": {},
   "outputs": [
    {
     "data": {
      "text/plain": [
       "<AxesSubplot:>"
      ]
     },
     "execution_count": 141,
     "metadata": {},
     "output_type": "execute_result"
    },
    {
     "data": {
      "image/png": "[encoded data removed]",
      "text/plain": [
       "<Figure size 432x288 with 1 Axes>"
      ]
     },
     "metadata": {
      "needs_background": "light"
     },
     "output_type": "display_data"
    }
   ],
   "source": [
    "masks_shape = []\n",
    "for shape in df_train.geometry:\n",
    "    out_image, out_transform = mask(src, [shape], crop=True)\n",
    "    masks_shape+=[out_image.shape[1:]]\n",
    "    \n",
    "df_boxshape = pd.DataFrame(masks_shape,columns=['w','h'])\n",
    "df_boxshape['area'] = df_boxshape['w']* df_boxshape['h']\n",
    "# df_boxshape.w.min(),df_boxshape.w.max(),df_boxshape.h.min(),df_boxshape.h.max()\n",
    "df_boxshape.area.hist()"
   ]
  },
  {
   "cell_type": "code",
   "execution_count": 142,
   "id": "5f09b216-20a2-4d6b-a4f4-9ea1f71d7072",
   "metadata": {},
   "outputs": [
    {
     "data": {
      "text/plain": [
       "<AxesSubplot:>"
      ]
     },
     "execution_count": 142,
     "metadata": {},
     "output_type": "execute_result"
    },
    {
     "data": {
      "image/png": "[encoded data removed]",
      "text/plain": [
       "<Figure size 432x288 with 1 Axes>"
      ]
     },
     "metadata": {
      "needs_background": "light"
     },
     "output_type": "display_data"
    }
   ],
   "source": [
    "masks_shape = []\n",
    "for shape in df_test.geometry:\n",
    "    out_image, out_transform = mask(src, [shape], crop=True)\n",
    "    masks_shape+=[out_image.shape[1:]]\n",
    "    \n",
    "df_boxshape = pd.DataFrame(masks_shape,columns=['w','h'])\n",
    "df_boxshape['area'] = df_boxshape['w']* df_boxshape['h']\n",
    "# df_boxshape.w.min(),df_boxshape.w.max(),df_boxshape.h.min(),df_boxshape.h.max()\n",
    "df_boxshape.area.hist()"
   ]
  },
  {
   "cell_type": "code",
   "execution_count": 14,
   "id": "69879d6e-fc18-4a61-94ea-fc70f99212d6",
   "metadata": {},
   "outputs": [],
   "source": [
    "np.save(\"./datasets/masks_train.npy\",masks_train)"
   ]
  },
  {
   "cell_type": "code",
   "execution_count": 15,
   "id": "a154f107-9f76-49b6-a464-ac77aefa2c23",
   "metadata": {},
   "outputs": [],
   "source": [
    "masks_test = []\n",
    "for shape in df_test.geometry:\n",
    "    out_image, out_transform = mask(src, [shape], crop=False)\n",
    "    out_image = (out_image!=0)\n",
    "    masks_test += [out_image]\n",
    "masks_test = np.concatenate(masks_test)\n",
    "np.save(\"./datasets/masks_test.npy\",masks_test)"
   ]
  },
  {
   "cell_type": "markdown",
   "id": "9b5b8e6b-15a6-4813-b6d5-c4ca013334e5",
   "metadata": {
    "tags": []
   },
   "source": [
    "# Mask Preprocessing Function"
   ]
  },
  {
   "cell_type": "code",
   "execution_count": 44,
   "id": "df8b2f1b-6543-421b-a104-22f3677c9766",
   "metadata": {},
   "outputs": [],
   "source": [
    "masks_train  = np.load(\"./datasets/masks_train.npy\")"
   ]
  },
  {
   "cell_type": "code",
   "execution_count": 45,
   "id": "a837f784-969e-4122-b515-f1b6535b1457",
   "metadata": {},
   "outputs": [
    {
     "data": {
      "text/plain": [
       "<matplotlib.image.AxesImage at 0x7f9de44bf460>"
      ]
     },
     "execution_count": 45,
     "metadata": {},
     "output_type": "execute_result"
    },
    {
     "data": {
      "image/png": "[encoded data removed]",
      "text/plain": [
       "<Figure size 432x288 with 1 Axes>"
      ]
     },
     "metadata": {
      "needs_background": "light"
     },
     "output_type": "display_data"
    }
   ],
   "source": [
    "plt.imshow(masks_train[0])"
   ]
  },
  {
   "cell_type": "code",
   "execution_count": 145,
   "id": "25d1e941-f48a-4ab3-96a0-cd985eddef81",
   "metadata": {},
   "outputs": [],
   "source": [
    "def crop_data(x,full_feat = None):\n",
    "    sum_0 = x.sum(axis=0)\n",
    "    sum_1 = x.sum(axis=1)\n",
    "    min_max_0 = np.nonzero(sum_0)[0]    \n",
    "    min_max_1 = np.nonzero(sum_1)[0]\n",
    "    min_0, max_0 = min(min_max_0), max(min_max_0)    \n",
    "    min_1, max_1 = min(min_max_1), max(min_max_1)\n",
    "    if full_feat is not None:\n",
    "        return x[min_1:max_1+1,min_0:max_0+1],full_feat[min_1:max_1+1,min_0:max_0+1]\n",
    "    return x[min_1:max_1+1,min_0:max_0+1]\n",
    "# def pad_img(x,cropped_feat = None):\n",
    "    \n",
    "def pad_zero_square_img(img,min_size = 16):\n",
    "    if img.ndim==2:\n",
    "        H,W = img.shape\n",
    "        if min_size>W:\n",
    "            d = min_size-W\n",
    "            pad_left = np.zeros((H,d//2+d%2))\n",
    "            pad_right = np.zeros((H,d//2))\n",
    "            img = np.concatenate([pad_left,img,pad_right],axis=1)\n",
    "        if min_size>H:\n",
    "            d = min_size-H\n",
    "            pad_top = np.zeros((d//2+d%2,max(min_size,W)))\n",
    "            pad_btm = np.zeros((d//2,max(min_size,W)))\n",
    "            img = np.concatenate([pad_top,img,pad_btm],axis=0)\n",
    "        return img\n",
    "    else:\n",
    "        H,W,n_dim = img.shape\n",
    "        if min_size>W:\n",
    "            d = min_size-W\n",
    "            pad_left = np.zeros((H,d//2+d%2,n_dim))\n",
    "            pad_right = np.zeros((H,d//2,n_dim))\n",
    "            img = np.concatenate([pad_left,img,pad_right],axis=1)\n",
    "        if min_size>H:\n",
    "            d = min_size-H\n",
    "            pad_top = np.zeros((d//2+d%2,max(min_size,W),n_dim))\n",
    "            pad_btm = np.zeros((d//2,max(min_size,W),n_dim))\n",
    "            img = np.concatenate([pad_top,img,pad_btm],axis=0)\n",
    "        return img\n",
    "\n",
    "def slicing_array(x,window_size = 16, stride = 1, mask = None, area_thresh = 0.7):\n",
    "    outputs = []\n",
    "    x_shape = x.shape\n",
    "    H,W = x_shape[0],x_shape[1]\n",
    "    for h in range((H-window_size)//stride+1):\n",
    "        for w in range((W-window_size)//stride+1):\n",
    "            if mask is not None:\n",
    "                cropped_mask = mask[h*stride:h*stride+window_size,w*stride:w*stride+window_size]\n",
    "                if cropped_mask.sum()/window_size/window_size > area_thresh:\n",
    "                    outputs += [x[h*stride:h*stride+window_size,w*stride:w*stride+window_size]]\n",
    "            else:\n",
    "                outputs += [x[h*stride:h*stride+window_size,w*stride:w*stride+window_size]]\n",
    "            # print(h*stride,h*stride+window_size,w*stride,w*stride+window_size)\n",
    "    return outputs\n",
    "croped_mask = crop_data(masks_train[1177])\n",
    "padded_mask = pad_zero_square_img(croped_mask)\n",
    "# plt.imshow(padded)\n",
    "outputs = slicing_array(padded_mask, mask = padded_mask, window_size = 16, stride = 5)\n",
    "# plt.imshow(padded_mask)"
   ]
  },
  {
   "cell_type": "code",
   "execution_count": 146,
   "id": "b8018ff7-7a41-4d50-accf-adaad708b4c9",
   "metadata": {},
   "outputs": [
    {
     "data": {
      "text/plain": [
       "16"
      ]
     },
     "execution_count": 146,
     "metadata": {},
     "output_type": "execute_result"
    }
   ],
   "source": [
    "len(outputs)"
   ]
  },
  {
   "cell_type": "code",
   "execution_count": 140,
   "id": "26925c08-f028-41ee-a2cb-4c3796dc5957",
   "metadata": {},
   "outputs": [
    {
     "data": {
      "text/plain": [
       "<matplotlib.image.AxesImage at 0x7f9ddf75e6d0>"
      ]
     },
     "execution_count": 140,
     "metadata": {},
     "output_type": "execute_result"
    },
    {
     "data": {
      "image/png": "[encoded data removed]",
      "text/plain": [
       "<Figure size 432x288 with 1 Axes>"
      ]
     },
     "metadata": {
      "needs_background": "light"
     },
     "output_type": "display_data"
    }
   ],
   "source": [
    "plt.imshow(outputs[1])"
   ]
  },
  {
   "cell_type": "code",
   "execution_count": 88,
   "id": "b97eccf1-adaa-4f9f-9c25-892aa28a33cb",
   "metadata": {},
   "outputs": [
    {
     "data": {
      "text/plain": [
       "(11, 8)"
      ]
     },
     "execution_count": 88,
     "metadata": {},
     "output_type": "execute_result"
    }
   ],
   "source": [
    "croped_land[0].shape"
   ]
  },
  {
   "cell_type": "code",
   "execution_count": 87,
   "id": "93cab500-eced-4abf-89dc-87e13dea5798",
   "metadata": {},
   "outputs": [
    {
     "data": {
      "text/plain": [
       "(11, 8, 100)"
      ]
     },
     "execution_count": 87,
     "metadata": {},
     "output_type": "execute_result"
    }
   ],
   "source": [
    "croped_land[1].shape"
   ]
  },
  {
   "cell_type": "markdown",
   "id": "b21aae3a-22df-4f59-9fef-db343e11b151",
   "metadata": {},
   "source": [
    "# Sentinel2 Image Preprocessing"
   ]
  },
  {
   "cell_type": "code",
   "execution_count": 5,
   "id": "2bbca6a0-7f64-49b3-98d7-e607bfed5568",
   "metadata": {},
   "outputs": [],
   "source": [
    "class ImageDataset(torch.utils.data.Dataset):\n",
    "    def __init__(self,df_img, normalize = False, img_size = 2051):\n",
    "        self.df_img = df_img\n",
    "        self.unique_date = df_img.yyyymmdd.unique()\n",
    "        self.normalize = normalize\n",
    "        self.img_size = img_size\n",
    "\n",
    "    def __len__(self):\n",
    "        return len(self.unique_date)\n",
    "    def __getitem__(self, idx):\n",
    "        data = self.df_img[self.df_img.yyyymmdd==self.unique_date[idx]]\n",
    "        data.index = data.band.values\n",
    "        data = data.to_dict()\n",
    "        raw_path = data['raw_path']\n",
    "        raw_path['date'] = self.unique_date[idx]\n",
    "\n",
    "        # rgb = np.concatenate([self.read_jp2(raw_path['B02'])[:,:,None],self.read_jp2(raw_path['B03'])[:,:,None],self.read_jp2(raw_path['B04'])[:,:,None]],axis=-1)\n",
    "        # rgb = (rgb/3558 *255).astype('uint8')\n",
    "        return raw_path# {'image': rgb}\n",
    "\n",
    "    def read_jp2(self,x):\n",
    "        elhas_raster = rasterio.open(x)\n",
    "        inputArray = elhas_raster.read()[0]\n",
    "\n",
    "        inputArray = cv2.resize(inputArray, (self.img_size,self.img_size), interpolation = cv2.INTER_AREA)\n",
    "        if self.normalize:\n",
    "            # vmin, vmax = np.nanpercentile(inputArray, (5,95))\n",
    "            vmin,vmax = 0,3558 \n",
    "            inputArray = np.clip((inputArray-vmin)/(vmax-vmin),0,1)\n",
    "        \n",
    "        return inputArray\n",
    "dataset = ImageDataset(df_img)"
   ]
  },
  {
   "cell_type": "code",
   "execution_count": 6,
   "id": "5d5f991a-8f28-45ac-8118-92ff1b847971",
   "metadata": {},
   "outputs": [
    {
     "data": {
      "text/plain": [
       "{'B02': 32793,\n",
       " 'B03': 32515,\n",
       " 'B04': 27113,\n",
       " 'B8A': 19794,\n",
       " 'B11': 15307,\n",
       " 'B12': 15486}"
      ]
     },
     "execution_count": 6,
     "metadata": {},
     "output_type": "execute_result"
    }
   ],
   "source": [
    "def get_max_value(dataset):\n",
    "    keys = ['B02','B03','B04','B8A','B11','B12']\n",
    "    output = dict.fromkeys(keys,0)\n",
    "    for i in dataset:\n",
    "        for j in keys:\n",
    "            value = dataset.read_jp2(i[j]).max()\n",
    "            output[j] = max(output[j],value)\n",
    "    return output\n",
    "get_max_value(dataset)"
   ]
  },
  {
   "cell_type": "code",
   "execution_count": 7,
   "id": "0a8702c6-a19e-4a7d-841b-c3603a147ae0",
   "metadata": {},
   "outputs": [
    {
     "data": {
      "text/plain": [
       "{'B05': 25424, 'B06': 23500, 'B07': 21408, 'B08': 22171}"
      ]
     },
     "execution_count": 7,
     "metadata": {},
     "output_type": "execute_result"
    }
   ],
   "source": [
    "def get_max_value(dataset):\n",
    "    keys = ['B05','B06','B07','B08']\n",
    "    output = dict.fromkeys(keys,0)\n",
    "    for i in dataset:\n",
    "        for j in keys:\n",
    "            value = dataset.read_jp2(i[j]).max()\n",
    "            output[j] = max(output[j],value)\n",
    "    return output\n",
    "get_max_value(dataset)"
   ]
  },
  {
   "cell_type": "code",
   "execution_count": 6,
   "id": "b1be2657-4e09-492b-8ba2-f6b5ef4fb466",
   "metadata": {},
   "outputs": [
    {
     "data": {
      "text/plain": [
       "<matplotlib.image.AxesImage at 0x7f10039aa490>"
      ]
     },
     "execution_count": 6,
     "metadata": {},
     "output_type": "execute_result"
    },
    {
     "data": {
      "image/png": "[encoded data removed]",
      "text/plain": [
       "<Figure size 432x288 with 1 Axes>"
      ]
     },
     "metadata": {
      "needs_background": "light"
     },
     "output_type": "display_data"
    }
   ],
   "source": [
    "# Blue : 0.445 (µm) 'B02'\n",
    "# Green : 0.555 (µm) 'B03'\n",
    "# Red : 0.672 (µm) 'B04'\n",
    "# NIR08 : 0.865 (µm) 'B8A'\n",
    "# NIR13 : 1.39 (µm) 'B10'\n",
    "# NIR16 : 1.61 (µm) 'B11'\n",
    "# NIR22 : 2.25 (µm) 'B12'\n",
    "\n",
    "# (Blue > MIN_REF) ^ (Green > MIN_REF) ^ (Red > MIN_REF) = CLOUD\n",
    "# (NIR13 > MIN_CIRRUS) = CIRRUS\n",
    "# ((Red < 4.0%) ^ (Red > NIR22)) ^ [((NIR08 > Red) ^ (Green < MIN_REF) ^ (Blue < MIN_REF) ^ (NIR08 > 5.0%)) V (NIR08 < MAX_NIR)] = SHADOW\n",
    "# (NIR08 < 12%) ^ (Green > NIR08) = WATER\n",
    "data_range = {'B02': 32793, 'B03': 32515, 'B04': 27113, 'B8A': 19794, 'B11': 15307, 'B12': 15486}\n",
    "def read_CLOUD_mask(data):\n",
    "    Blue = dataset.read_jp2(data['B02'])\n",
    "    Green = dataset.read_jp2(data['B03'])\n",
    "    Red = dataset.read_jp2(data['B04'])\n",
    "    NIR08 = dataset.read_jp2(data['B8A'])\n",
    "    NIR16 = dataset.read_jp2(data['B11'])\n",
    "    NIR22 = dataset.read_jp2(data['B12'])\n",
    "\n",
    "    MIN_REF = 0.08*32793\n",
    "    CLOUD = (Blue > MIN_REF) & (Green > MIN_REF) & (Red > MIN_REF)\n",
    "    SHADOW = ((Red < MIN_REF/2) & (Red > NIR22)) & (((NIR08 > Red) & (Green < MIN_REF) & (Blue < MIN_REF) & (NIR08 > 0.05*19794)) | (NIR08 < 19794))\n",
    "    WATER = (NIR08 < 0.12*19794) & (Green > NIR08)\n",
    "    return CLOUD | SHADOW | WATER\n",
    "def read_CLOUD_mask2(data):\n",
    "    SCL = dataset.read_jp2(data['SCL'])\n",
    "    return (SCL==3)|(SCL==7)|(SCL==8)|(SCL==9)|(SCL==10)\n",
    "    \n",
    "plt.imshow(read_CLOUD_mask2(dataset[0]))"
   ]
  },
  {
   "cell_type": "code",
   "execution_count": 7,
   "id": "51325213-71e2-4d78-89d4-ad5fb2d69f5c",
   "metadata": {},
   "outputs": [
    {
     "name": "stderr",
     "output_type": "stream",
     "text": [
      "/tmp/ipykernel_8951/3254101269.py:17: RuntimeWarning: invalid value encountered in true_divide\n",
      "  NDVI = (NIR - Red)/(NIR + Red)\n",
      "/tmp/ipykernel_8951/3254101269.py:18: RuntimeWarning: invalid value encountered in true_divide\n",
      "  GNDVI = (NIR - Green)/(NIR + Green)\n",
      "/tmp/ipykernel_8951/3254101269.py:20: RuntimeWarning: invalid value encountered in true_divide\n",
      "  NDWI = (NIR - MIR) / (NIR + MIR)\n"
     ]
    },
    {
     "data": {
      "text/plain": [
       "(2051, 2051, 5)"
      ]
     },
     "execution_count": 7,
     "metadata": {},
     "output_type": "execute_result"
    }
   ],
   "source": [
    "# NDVI = (NIR – Red) / (NIR + Red)\n",
    "# SAVI = [(NIR – Red)/(NIR + Red +0.5)] ∗ (1 + 0.5)\n",
    "# NDWI = (NIR - MIR) / (NIR + MIR)\n",
    "def COMPUTE_features(data):\n",
    "    Blue = dataset.read_jp2(data['B02']).astype(float)\n",
    "    Green = dataset.read_jp2(data['B03']).astype(float)\n",
    "    Red = dataset.read_jp2(data['B04']).astype(float)\n",
    "    NIR = dataset.read_jp2(data['B8A']).astype(float)\n",
    "    MIR = dataset.read_jp2(data['B12']).astype(float)\n",
    "    \n",
    "    NIR05 = dataset.read_jp2(data['B05'])\n",
    "    NIR06 = dataset.read_jp2(data['B06'])\n",
    "    NIR07 = dataset.read_jp2(data['B07'])\n",
    "    NIR08 = dataset.read_jp2(data['B08'])\n",
    "    \n",
    "     \n",
    "    NDVI = (NIR - Red)/(NIR + Red)\n",
    "    GNDVI = (NIR - Green)/(NIR + Green)\n",
    "    SAVI = ((NIR - Red)/(NIR + Red +0.5)) * (1 + 0.5)\n",
    "    NDWI = (NIR - MIR) / (NIR + MIR)\n",
    "    \n",
    "    NDVI = np.nan_to_num(NDVI, nan=0.0)[:,:,None]\n",
    "    GNDVI = np.nan_to_num(GNDVI, nan=0.0)[:,:,None]\n",
    "    SAVI = np.nan_to_num(SAVI, nan=0.0)[:,:,None]\n",
    "    NDWI = np.nan_to_num(NDWI, nan=0.0)[:,:,None]\n",
    "    \n",
    "    Blue = (Blue/20000)[:,:,None]\n",
    "    Green = (Green/20000)[:,:,None]\n",
    "    Red = (Red/20000)[:,:,None]\n",
    "    NIR05 = (NIR05/20000)[:,:,None]\n",
    "    NIR06 = (NIR06/20000)[:,:,None]\n",
    "    NIR07 = (NIR07/20000)[:,:,None]\n",
    "    NIR08 = (NIR08/20000)[:,:,None]\n",
    "    NIR = (NIR/20000)[:,:,None]\n",
    "    return np.concatenate([Blue,NIR08,NDVI,GNDVI,SAVI],axis=-1)# np.concatenate([Blue,NIR08,NDVI,GNDVI,SAVI,NDWI],axis=-1)\n",
    "\n",
    "features = COMPUTE_features(dataset[0])\n",
    "features.shape"
   ]
  },
  {
   "cell_type": "code",
   "execution_count": null,
   "id": "fea22f0b-face-4668-88d8-8074cf895ce0",
   "metadata": {},
   "outputs": [],
   "source": [
    "CLOUD_mask = np.concatenate([read_CLOUD_mask2(i)[None,:] for i in dataset])\n",
    "np.save(\"./datasets/CLOUD_mask.npy\",CLOUD_mask)"
   ]
  },
  {
   "cell_type": "code",
   "execution_count": 8,
   "id": "ef21ef52-4173-4d52-b3a1-4093f8f97a35",
   "metadata": {},
   "outputs": [
    {
     "name": "stderr",
     "output_type": "stream",
     "text": [
      "/tmp/ipykernel_8951/3254101269.py:17: RuntimeWarning: invalid value encountered in true_divide\n",
      "  NDVI = (NIR - Red)/(NIR + Red)\n",
      "/tmp/ipykernel_8951/3254101269.py:18: RuntimeWarning: invalid value encountered in true_divide\n",
      "  GNDVI = (NIR - Green)/(NIR + Green)\n",
      "/tmp/ipykernel_8951/3254101269.py:20: RuntimeWarning: invalid value encountered in true_divide\n",
      "  NDWI = (NIR - MIR) / (NIR + MIR)\n"
     ]
    },
    {
     "data": {
      "text/plain": [
       "(142, 2051, 2051, 5)"
      ]
     },
     "execution_count": 8,
     "metadata": {},
     "output_type": "execute_result"
    }
   ],
   "source": [
    "features = np.concatenate([COMPUTE_features(i)[None,:] for i in dataset])\n",
    "features.shape"
   ]
  },
  {
   "cell_type": "code",
   "execution_count": 9,
   "id": "5abd444d-0f37-44fb-93d9-2902cb03ae12",
   "metadata": {},
   "outputs": [],
   "source": [
    "np.save(\"./datasets/image_features_Blue_NIR08_NDVI_GNDVI_SAVI.npy\",features)"
   ]
  },
  {
   "cell_type": "code",
   "execution_count": null,
   "id": "caa966e3-9ae1-4388-896f-cb700998ab02",
   "metadata": {},
   "outputs": [],
   "source": []
  }
 ],
 "metadata": {
  "kernelspec": {
   "display_name": "Python 3 (ipykernel)",
   "language": "python",
   "name": "python3"
  },
  "language_info": {
   "codemirror_mode": {
    "name": "ipython",
    "version": 3
   },
   "file_extension": ".py",
   "mimetype": "text/x-python",
   "name": "python",
   "nbconvert_exporter": "python",
   "pygments_lexer": "ipython3",
   "version": "3.8.10"
  }
 },
 "nbformat": 4,
 "nbformat_minor": 5
}
